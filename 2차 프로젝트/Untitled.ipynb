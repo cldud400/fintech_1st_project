{
 "cells": [
  {
   "cell_type": "code",
   "execution_count": 1,
   "id": "9d01e6ca",
   "metadata": {},
   "outputs": [],
   "source": [
    "import warnings\n",
    "warnings.simplefilter(action='ignore', category=FutureWarning)\n",
    "import MySQLdb\n",
    "import pandas as pd\n",
    "import numpy as np\n",
    "import matplotlib.pyplot as plt\n",
    "import seaborn as sns"
   ]
  },
  {
   "cell_type": "code",
   "execution_count": 2,
   "id": "deb72c0a",
   "metadata": {},
   "outputs": [],
   "source": [
    "import requests\n",
    "from bs4 import BeautifulSoup"
   ]
  },
  {
   "cell_type": "code",
   "execution_count": 3,
   "id": "9f301eee",
   "metadata": {},
   "outputs": [],
   "source": [
    "import time\n",
    "from selenium import webdriver\n",
    "from selenium.webdriver.common.keys import Keys"
   ]
  },
  {
   "cell_type": "code",
   "execution_count": null,
   "id": "1eab642d",
   "metadata": {},
   "outputs": [],
   "source": []
  },
  {
   "cell_type": "code",
   "execution_count": 95,
   "id": "9a522590",
   "metadata": {},
   "outputs": [],
   "source": [
    "# # 날짜 dataframe 만들기\n",
    "# start_date = pd.to_datetime('2015-01-01') ## 시작 날짜\n",
    "# end_date = pd.to_datetime('2022-03-07') ## 마지막 날짜\n",
    " \n",
    "# dates = pd.date_range(start_date,end_date,freq='M') ## 월단위로 생성\n",
    "# dates = pd.DataFrame(dates, columns=['date'])"
   ]
  },
  {
   "cell_type": "code",
   "execution_count": null,
   "id": "cda9cac4",
   "metadata": {},
   "outputs": [],
   "source": []
  },
  {
   "cell_type": "code",
   "execution_count": null,
   "id": "40beee47",
   "metadata": {},
   "outputs": [],
   "source": []
  },
  {
   "cell_type": "code",
   "execution_count": 42,
   "id": "959a12cf",
   "metadata": {},
   "outputs": [],
   "source": [
    "# 년,월,일 -> 날짜\n",
    "def change_date(x):\n",
    "    ret = []\n",
    "    for da in x.split():\n",
    "        ret.append(da[:-1])\n",
    "    return '.'.join(ret)"
   ]
  },
  {
   "cell_type": "code",
   "execution_count": 150,
   "id": "3e234982",
   "metadata": {},
   "outputs": [],
   "source": [
    "# K, M, B 변환\n",
    "def m_to_k(x):\n",
    "    if x[-1] == 'M':\n",
    "        return float(x[:-1]) * 1000\n",
    "    elif x[-1] == 'K':\n",
    "        return float(x[:-1])\n",
    "    elif x[-1] == 'B':\n",
    "        return float(x[:-1]) * 1000000\n",
    "    else:\n",
    "        return np.nan"
   ]
  },
  {
   "cell_type": "code",
   "execution_count": null,
   "id": "bf1897e2",
   "metadata": {},
   "outputs": [],
   "source": [
    "# 나스닥 종합지수, 상해 종합지수, 달러지수 병합"
   ]
  },
  {
   "cell_type": "code",
   "execution_count": 199,
   "id": "ac1f876e",
   "metadata": {},
   "outputs": [],
   "source": [
    "## 나스닥\n",
    "df_nasdaq = pd.read_csv('나스닥종합지수.csv')\n",
    "df_nasdaq.drop(['오픈','고가','저가'], axis=1, inplace=True)\n",
    "df_nasdaq.rename(columns={'날짜':'date', '종가':'nasdaq', '거래량':'nasdaq_거래량', '변동 %':'nasdaq_volatility'},\n",
    "                 inplace=True)\n",
    "\n",
    "### 날짜 전처리\n",
    "df_nasdaq.date = df_nasdaq.date.apply(change_date)\n",
    "df_nasdaq.date = pd.to_datetime(df_nasdaq.date)\n",
    "\n",
    "### 가격 float타입\n",
    "df_nasdaq.nasdaq = df_nasdaq.nasdaq.str.replace(',','').astype('float')\n",
    "\n",
    "### 거래량 전처리\n",
    "df_nasdaq['nasdaq_거래량'] = df_nasdaq['nasdaq_거래량'].apply(m_to_k)\n",
    "\n",
    "### 변동% 전처리\n",
    "df_nasdaq['nasdaq_volatility'] = df_nasdaq.nasdaq_volatility.apply(lambda x : float(x[:-1]))"
   ]
  },
  {
   "cell_type": "code",
   "execution_count": 198,
   "id": "417c20c8",
   "metadata": {},
   "outputs": [],
   "source": [
    "## 상해 종합지수\n",
    "df_ssec = pd.read_csv('상하이종합 내역.csv')\n",
    "df_ssec.drop(['오픈','고가','저가'], axis=1, inplace=True)\n",
    "df_ssec.rename(columns={'날짜':'date', '종가':'ssec', '거래량':'ssec_거래량', '변동 %':'ssec_volatility'},\n",
    "               inplace=True)\n",
    "\n",
    "### 날짜 전처리\n",
    "df_ssec.date = df_ssec.date.apply(change_date)\n",
    "df_ssec.date = pd.to_datetime(df_ssec.date)\n",
    "\n",
    "### 가격 float타입\n",
    "df_ssec.ssec = df_ssec.ssec.str.replace(',','').astype('float')\n",
    "\n",
    "### 거래량 전처리\n",
    "df_ssec['ssec_거래량'] = df_ssec['ssec_거래량'].apply(m_to_k)\n",
    "\n",
    "### 변동% 전처리\n",
    "df_ssec['ssec_volatility'] = df_ssec.ssec_volatility.apply(lambda x : float(x[:-1]))"
   ]
  },
  {
   "cell_type": "code",
   "execution_count": 223,
   "id": "b4631baf",
   "metadata": {},
   "outputs": [],
   "source": [
    "## 달러지수\n",
    "df_dollar = pd.read_csv('달러 지수.csv')\n",
    "df_dollar.drop(['오픈','고가','저가', '거래량'], axis=1, inplace=True)\n",
    "df_dollar.rename(columns={'날짜':'date', '종가':'dollar', '변동 %':'dollar_volatility'}, inplace=True)\n",
    "\n",
    "### 날짜 전처리\n",
    "df_dollar.date = df_dollar.date.apply(change_date)\n",
    "df_dollar.date = pd.to_datetime(df_dollar.date)\n",
    "\n",
    "### 변동% 전처리\n",
    "df_dollar['dollar_volatility'] = df_dollar.dollar_volatility.apply(lambda x : float(x[:-1]))"
   ]
  },
  {
   "cell_type": "code",
   "execution_count": 224,
   "id": "626266f9",
   "metadata": {},
   "outputs": [],
   "source": [
    "## 병합\n",
    "df_composite_index = pd.merge(df_nasdaq, df_ssec, how='outer', on='date')\n",
    "df_composite_index = pd.merge(df_composite_index, df_dollar, how='outer', on='date')\n",
    "# df_composite_index.to_csv('종합지수_merge.csv')"
   ]
  },
  {
   "cell_type": "code",
   "execution_count": null,
   "id": "5a4c9d36",
   "metadata": {},
   "outputs": [],
   "source": []
  },
  {
   "cell_type": "code",
   "execution_count": null,
   "id": "c47fd38a",
   "metadata": {},
   "outputs": [],
   "source": [
    "# 희토류, 리튬, 코발트 병합"
   ]
  },
  {
   "cell_type": "code",
   "execution_count": 209,
   "id": "2d107910",
   "metadata": {},
   "outputs": [
    {
     "name": "stderr",
     "output_type": "stream",
     "text": [
      "C:\\Users\\bitcamp\\anaconda3\\lib\\site-packages\\openpyxl\\styles\\stylesheet.py:226: UserWarning: Workbook contains no default style, apply openpyxl's default\n",
      "  warn(\"Workbook contains no default style, apply openpyxl's default\")\n"
     ]
    }
   ],
   "source": [
    "## 리튬\n",
    "df_li = pd.read_excel('리튬 가격.xlsx')\n",
    "df_li.drop(['등락가', '재고량'], axis = 1, inplace=True)\n",
    "df_li.columns = 'date', '리튬가격', '리튬변동률'"
   ]
  },
  {
   "cell_type": "code",
   "execution_count": 210,
   "id": "71d9a459",
   "metadata": {},
   "outputs": [],
   "source": [
    "## 코발트\n",
    "df_co = pd.read_excel('코발트 가격.xlsx')\n",
    "df_co.drop(['등락가', '재고량'], axis = 1, inplace = True)\n",
    "df_co.columns = 'date', '코발트가격', '코발트변동률'"
   ]
  },
  {
   "cell_type": "code",
   "execution_count": 211,
   "id": "f808a4c2",
   "metadata": {},
   "outputs": [],
   "source": [
    "## 희토류\n",
    "df_ra = pd.read_excel('희토류 가격.xlsx')\n",
    "df_ra.drop(['등락가', '재고량'], axis = 1, inplace = True)\n",
    "df_ra.columns = 'date', '희토류가격', '희토류변동률'"
   ]
  },
  {
   "cell_type": "code",
   "execution_count": 212,
   "id": "518aaf43",
   "metadata": {},
   "outputs": [],
   "source": [
    "## 병합\n",
    "merge_lico = pd.merge(df_li, df_co, on = 'date', how = 'outer')\n",
    "merge_licora = pd.merge(merge_lico, df_ra, on = 'date', how = 'outer')\n",
    "# merge_licora.to_csv('배터리원자재_merge.csv')"
   ]
  },
  {
   "cell_type": "code",
   "execution_count": null,
   "id": "4969bcc7",
   "metadata": {},
   "outputs": [],
   "source": []
  },
  {
   "cell_type": "code",
   "execution_count": null,
   "id": "b98a7ae1",
   "metadata": {},
   "outputs": [],
   "source": [
    "# 재무제표"
   ]
  },
  {
   "cell_type": "code",
   "execution_count": 399,
   "id": "0c0e73af",
   "metadata": {},
   "outputs": [],
   "source": [
    "## 재무제표 전처리\n",
    "df_fn_statements = pd.read_csv('tesla 재무제표.csv')\n",
    "df_fn_statements = df_fn_statements.set_index('Unnamed: 1')\n",
    "df_fn_statements = df_fn_statements.drop(['Unnamed: 0','초이스스탁US 프리미엄', '프리미엄', '무료'], axis = 1)\n",
    "df_fn_statements.dropna(inplace = True)\n",
    "df_fn_statements = df_fn_statements.T\n",
    "df_fn_statements = df_fn_statements.astype('object')\n",
    "df_fn_statements = df_fn_statements.reset_index()\n",
    "df_fn_statements = df_fn_statements.rename_axis(columns={'Unnamed: 1' : ''})\n",
    "df_fn_statements = df_fn_statements.rename(columns={'index':'date'})\n",
    "df_fn_statements.date = df_fn_statements.date.apply(lambda x : x.replace('.','/'))\n",
    "df_fn_statements.date = df_fn_statements.date.apply(lambda x : '/'.join(x.split('/')[::-1]))\n",
    "df_fn_statements.date = pd.to_datetime(df_fn_statements.date)\n",
    "df_fn_statements.drop(['중단손익'], axis=1, inplace=True)\n",
    "\n",
    "drop_col = ['매입채무등', '단기차입금', '장기차입금', '이연수익', '이연세부채','기타부채', '부채총계',\n",
    "            '이익잉여금', '기타포괄익', '자본총계', '영업활동', '투자활동', '재무활동', '환율변동',\n",
    "            '현금의증감', '자본적지출', '잉여현금', '현금성자산', '단기투자', '매출채권등', '재고자산',\n",
    "            '장기투자', '유형자산', '무형자산', '이연세자산', '기타자산','EBITDA', '법인세', '판매관리비',\n",
    "            '연구개발비']\n",
    "\n",
    "df_fn_statements.drop(drop_col, axis=1, inplace=True)\n",
    "df_fn_statements = df_fn_statements.iloc[:28]\n",
    "\n",
    "# float 타입변환\n",
    "col = df_fn_statements.columns.values\n",
    "for c in col[1:]:\n",
    "    df_fn_statements.loc[:,c] = df_fn_statements.loc[:,c].apply(lambda x : x.replace(',',''))\n",
    "    df_fn_statements[c] = df_fn_statements[c].astype('float')\n",
    "\n",
    "# 이익률 계산\n",
    "df_fn_statements['매출총이익률'] = (df_fn_statements['매출총이익']/df_fn_statements['매출액'])*100\n",
    "df_fn_statements['영업이익률'] = (df_fn_statements['영업이익']/df_fn_statements['매출액'])*100\n",
    "# df_fn_statements.to_csv('fn_statements.csv')"
   ]
  },
  {
   "cell_type": "code",
   "execution_count": null,
   "id": "1aec4bdc",
   "metadata": {},
   "outputs": [],
   "source": []
  },
  {
   "cell_type": "code",
   "execution_count": null,
   "id": "37e2e0db",
   "metadata": {},
   "outputs": [],
   "source": []
  },
  {
   "cell_type": "code",
   "execution_count": 354,
   "id": "42555ec5",
   "metadata": {},
   "outputs": [],
   "source": [
    "# 리튬관련 etf"
   ]
  },
  {
   "cell_type": "code",
   "execution_count": 356,
   "id": "11fe2e07",
   "metadata": {},
   "outputs": [],
   "source": [
    "## LIT etf\n",
    "df_lit = pd.read_csv('리튬 etf LIT.csv')\n",
    "df_lit.drop(['Open', 'High', 'Low', 'Close'], axis = 1, inplace=True)\n",
    "df_lit.columns = 'date', 'LIT조정종가', 'LIT거래량'\n",
    "df_lit['date'] = pd.to_datetime(df_lit['date'])"
   ]
  },
  {
   "cell_type": "code",
   "execution_count": 363,
   "id": "9542d621",
   "metadata": {},
   "outputs": [],
   "source": [
    "## SGL ETF\n",
    "df_sgl = pd.read_csv('리튬전지 SGL etf.csv')\n",
    "df_sgl.drop(['오픈', '고가', '저가', '거래량'], axis = 1, inplace = True)\n",
    "df_sgl.columns = 'date', 'SGL종가', 'SGL변동률'\n",
    "df_sgl['date'] = df_sgl['date'].apply(change_date)\n",
    "df_sgl['date'] = pd.to_datetime(df_sgl['date'])"
   ]
  },
  {
   "cell_type": "code",
   "execution_count": 372,
   "id": "8d9637f8",
   "metadata": {},
   "outputs": [],
   "source": [
    "## 리튬 etf 병합\n",
    "df_lithium_etf = pd.merge(df_lit, df_sgl, on = 'date', how = 'outer')\n",
    "# df_lithium_etf.to_csv('lithium_etf_merge')"
   ]
  },
  {
   "cell_type": "code",
   "execution_count": null,
   "id": "7cb9cb68",
   "metadata": {},
   "outputs": [],
   "source": []
  },
  {
   "cell_type": "code",
   "execution_count": null,
   "id": "ce602bcd",
   "metadata": {},
   "outputs": [],
   "source": []
  },
  {
   "cell_type": "code",
   "execution_count": 400,
   "id": "f651dc19",
   "metadata": {},
   "outputs": [],
   "source": [
    "# 반도체관련 etf"
   ]
  },
  {
   "cell_type": "code",
   "execution_count": 407,
   "id": "9b637f2d",
   "metadata": {},
   "outputs": [],
   "source": [
    "## psi etf (미국)\n",
    "df_psi = pd.read_csv(\"미국 반도체 etf PSI.csv\")\n",
    "df_psi = df_psi.rename(columns={'날짜':'date'})\n",
    "df_psi = df_psi.rename(columns={'거래량':'PSI거래량','종가':'PSI종가'})\n",
    "df_psi.drop(['오픈','고가','저가','변동 %'], axis=1, inplace=True)\n",
    "df_psi.date = pd.to_datetime(df_psi.date.apply(change_date))\n",
    "df_psi.PSI거래량 = df_psi.PSI거래량.apply(m_to_k).astype('float')"
   ]
  },
  {
   "cell_type": "code",
   "execution_count": 408,
   "id": "605ec70d",
   "metadata": {},
   "outputs": [],
   "source": [
    "## soxx etf (미국)\n",
    "df_soxx = pd.read_csv(\"미국 반도체 etf SOXX.csv\")\n",
    "df_soxx = df_soxx.rename(columns = {'날짜' : 'date','거래량' : 'SOXX거래량','종가' : 'SOXX종가'})\n",
    "df_soxx.drop(['오픈','고가','저가','변동 %'], axis=1, inplace=True)\n",
    "df_soxx.date = pd.to_datetime(df_soxx.date.apply(change_date))\n",
    "df_soxx.SOXX거래량 = df_soxx.SOXX거래량.apply(m_to_k).astype(\"float\")"
   ]
  },
  {
   "cell_type": "code",
   "execution_count": 409,
   "id": "bfb4962d",
   "metadata": {},
   "outputs": [],
   "source": [
    "## soxl etf (미국)\n",
    "df_soxl = pd.read_csv(\"미국 반도체 etf SOXL.csv\")\n",
    "df_soxl = df_soxl.rename(columns = {'날짜' : 'date','거래량' : 'SOXL거래량','종가' : 'SOXL종가'})\n",
    "df_soxl.drop(['오픈','고가','저가','변동 %'], axis=1, inplace=True)\n",
    "df_soxl.date = pd.to_datetime(df_soxl.date.apply(change_date))\n",
    "df_soxl.SOXL거래량 = df_soxl.SOXL거래량.apply(m_to_k).astype(\"float\")"
   ]
  },
  {
   "cell_type": "code",
   "execution_count": 413,
   "id": "ed23e18a",
   "metadata": {},
   "outputs": [],
   "source": [
    "## 반도체 etf merge\n",
    "merge_outer = pd.merge(df_psi, df_soxx,how='outer', on='date')\n",
    "merge_outer2 = pd.merge(merge_outer,df_soxl, how='outer', on='date')\n",
    "# merge_outer2.to_csv('반도체 etf merge.csv')"
   ]
  },
  {
   "cell_type": "code",
   "execution_count": null,
   "id": "19a88f7f",
   "metadata": {},
   "outputs": [],
   "source": []
  },
  {
   "cell_type": "code",
   "execution_count": null,
   "id": "8e28df0e",
   "metadata": {},
   "outputs": [],
   "source": []
  },
  {
   "cell_type": "code",
   "execution_count": null,
   "id": "e0c6692c",
   "metadata": {},
   "outputs": [],
   "source": [
    "# 전기차관련 etf"
   ]
  },
  {
   "cell_type": "code",
   "execution_count": 414,
   "id": "fce54119",
   "metadata": {},
   "outputs": [],
   "source": [
    "## driv etf (미국)\n",
    "df_driv = pd.read_csv(\"미국 전기차 erf DRIV.csv\")\n",
    "df_driv = df_driv.rename(columns = {'날짜':'date', '종가':'DRIV종가','거래량':'DRIV거래량'})\n",
    "df_driv.drop(['오픈','고가','저가','변동 %'], axis =1, inplace=True)\n",
    "df_driv.date = pd.to_datetime(df_driv.date.apply(change_date))\n",
    "df_driv.DRIV거래량 = df_driv.DRIV거래량.apply(m_to_k).astype('float')"
   ]
  },
  {
   "cell_type": "code",
   "execution_count": 415,
   "id": "b4d94c16",
   "metadata": {},
   "outputs": [],
   "source": [
    "## acdc etf (캐나다)\n",
    "df_acdc = pd.read_csv(\"캐나다 전기차 etf ACDC.csv\")\n",
    "df_acdc = df_acdc.rename(columns = {'날짜':'date', '종가':'ACDC종가','거래량':'ACDC거래량'})\n",
    "df_acdc.drop(['오픈','고가','저가','변동 %'], axis =1, inplace=True)\n",
    "df_acdc.date = pd.to_datetime(df_acdc.date.apply(change_date))\n",
    "df_acdc.ACDC거래량 = df_acdc.ACDC거래량.apply(m_to_k).astype('float')"
   ]
  },
  {
   "cell_type": "code",
   "execution_count": 418,
   "id": "cb20b21c",
   "metadata": {},
   "outputs": [],
   "source": [
    "## 전기차 etf 병합\n",
    "outer_merge = pd.merge(df_driv, df_acdc, how='outer', on='date')\n",
    "outer_merge.to_csv('전기차 etf merge.csv')"
   ]
  },
  {
   "cell_type": "code",
   "execution_count": null,
   "id": "94f0228d",
   "metadata": {},
   "outputs": [],
   "source": []
  },
  {
   "cell_type": "code",
   "execution_count": null,
   "id": "e659f11c",
   "metadata": {},
   "outputs": [],
   "source": []
  },
  {
   "cell_type": "code",
   "execution_count": 419,
   "id": "883a8cca",
   "metadata": {},
   "outputs": [],
   "source": [
    "# 테슬라 주가(target)"
   ]
  },
  {
   "cell_type": "code",
   "execution_count": 421,
   "id": "3f98cd40",
   "metadata": {},
   "outputs": [],
   "source": [
    "## 테슬라\n",
    "df_tesla = pd.read_csv('테슬라 주가.csv')\n",
    "df_tesla.drop(['오픈','고가','저가'], axis=1, inplace=True)\n",
    "df_tesla.rename(columns={'날짜':'date', '종가':'tesla', '거래량':'tesla_거래량', '변동 %':'tesla_volatility'},\n",
    "                 inplace=True)\n",
    "\n",
    "### 날짜 전처리\n",
    "df_tesla.date = df_tesla.date.apply(change_date)\n",
    "df_tesla.date = pd.to_datetime(df_tesla.date)\n",
    "\n",
    "### 거래량 전처리\n",
    "df_tesla['tesla_거래량'] = df_tesla['tesla_거래량'].apply(m_to_k)\n",
    "\n",
    "### 변동% 전처리\n",
    "df_tesla['tesla_volatility'] = df_tesla.tesla_volatility.apply(lambda x : float(x[:-1]))"
   ]
  },
  {
   "cell_type": "code",
   "execution_count": null,
   "id": "262a94d9",
   "metadata": {},
   "outputs": [],
   "source": []
  },
  {
   "cell_type": "code",
   "execution_count": null,
   "id": "a095a1b5",
   "metadata": {},
   "outputs": [],
   "source": []
  },
  {
   "cell_type": "code",
   "execution_count": null,
   "id": "99bad706",
   "metadata": {},
   "outputs": [],
   "source": []
  },
  {
   "cell_type": "code",
   "execution_count": null,
   "id": "31b4f811",
   "metadata": {},
   "outputs": [],
   "source": [
    "# 유가, 유가 선물지수, 탄소배출권"
   ]
  },
  {
   "cell_type": "code",
   "execution_count": 438,
   "id": "07373a96",
   "metadata": {},
   "outputs": [],
   "source": [
    "df_oli_price = pd.read_csv('국제 유가.csv', skiprows=4)"
   ]
  },
  {
   "cell_type": "code",
   "execution_count": 439,
   "id": "d91f47f4",
   "metadata": {},
   "outputs": [
    {
     "data": {
      "text/html": [
       "<div>\n",
       "<style scoped>\n",
       "    .dataframe tbody tr th:only-of-type {\n",
       "        vertical-align: middle;\n",
       "    }\n",
       "\n",
       "    .dataframe tbody tr th {\n",
       "        vertical-align: top;\n",
       "    }\n",
       "\n",
       "    .dataframe thead th {\n",
       "        text-align: right;\n",
       "    }\n",
       "</style>\n",
       "<table border=\"1\" class=\"dataframe\">\n",
       "  <thead>\n",
       "    <tr style=\"text-align: right;\">\n",
       "      <th></th>\n",
       "      <th>Day</th>\n",
       "      <th>Cushing OK Crude Oil Future Contract 1  Dollars per Barrel</th>\n",
       "    </tr>\n",
       "  </thead>\n",
       "  <tbody>\n",
       "    <tr>\n",
       "      <th>0</th>\n",
       "      <td>03/1/2022</td>\n",
       "      <td>103.41</td>\n",
       "    </tr>\n",
       "    <tr>\n",
       "      <th>1</th>\n",
       "      <td>02/28/2022</td>\n",
       "      <td>95.72</td>\n",
       "    </tr>\n",
       "    <tr>\n",
       "      <th>2</th>\n",
       "      <td>02/25/2022</td>\n",
       "      <td>91.59</td>\n",
       "    </tr>\n",
       "    <tr>\n",
       "      <th>3</th>\n",
       "      <td>02/24/2022</td>\n",
       "      <td>92.81</td>\n",
       "    </tr>\n",
       "    <tr>\n",
       "      <th>4</th>\n",
       "      <td>02/23/2022</td>\n",
       "      <td>92.10</td>\n",
       "    </tr>\n",
       "    <tr>\n",
       "      <th>...</th>\n",
       "      <td>...</td>\n",
       "      <td>...</td>\n",
       "    </tr>\n",
       "    <tr>\n",
       "      <th>9765</th>\n",
       "      <td>04/8/1983</td>\n",
       "      <td>30.38</td>\n",
       "    </tr>\n",
       "    <tr>\n",
       "      <th>9766</th>\n",
       "      <td>04/7/1983</td>\n",
       "      <td>30.17</td>\n",
       "    </tr>\n",
       "    <tr>\n",
       "      <th>9767</th>\n",
       "      <td>04/6/1983</td>\n",
       "      <td>29.92</td>\n",
       "    </tr>\n",
       "    <tr>\n",
       "      <th>9768</th>\n",
       "      <td>04/5/1983</td>\n",
       "      <td>29.71</td>\n",
       "    </tr>\n",
       "    <tr>\n",
       "      <th>9769</th>\n",
       "      <td>04/4/1983</td>\n",
       "      <td>29.44</td>\n",
       "    </tr>\n",
       "  </tbody>\n",
       "</table>\n",
       "<p>9770 rows × 2 columns</p>\n",
       "</div>"
      ],
      "text/plain": [
       "             Day  Cushing OK Crude Oil Future Contract 1  Dollars per Barrel\n",
       "0      03/1/2022                                             103.41         \n",
       "1     02/28/2022                                              95.72         \n",
       "2     02/25/2022                                              91.59         \n",
       "3     02/24/2022                                              92.81         \n",
       "4     02/23/2022                                              92.10         \n",
       "...          ...                                                ...         \n",
       "9765   04/8/1983                                              30.38         \n",
       "9766   04/7/1983                                              30.17         \n",
       "9767   04/6/1983                                              29.92         \n",
       "9768   04/5/1983                                              29.71         \n",
       "9769   04/4/1983                                              29.44         \n",
       "\n",
       "[9770 rows x 2 columns]"
      ]
     },
     "execution_count": 439,
     "metadata": {},
     "output_type": "execute_result"
    }
   ],
   "source": [
    "df_oli_price"
   ]
  },
  {
   "cell_type": "code",
   "execution_count": null,
   "id": "09d4abb1",
   "metadata": {},
   "outputs": [],
   "source": []
  }
 ],
 "metadata": {
  "kernelspec": {
   "display_name": "Python 3 (ipykernel)",
   "language": "python",
   "name": "python3"
  },
  "language_info": {
   "codemirror_mode": {
    "name": "ipython",
    "version": 3
   },
   "file_extension": ".py",
   "mimetype": "text/x-python",
   "name": "python",
   "nbconvert_exporter": "python",
   "pygments_lexer": "ipython3",
   "version": "3.9.7"
  }
 },
 "nbformat": 4,
 "nbformat_minor": 5
}
