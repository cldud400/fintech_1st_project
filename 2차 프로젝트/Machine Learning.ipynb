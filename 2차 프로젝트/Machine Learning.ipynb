{
 "cells": [
  {
   "cell_type": "code",
   "execution_count": 1,
   "id": "9b78b48b",
   "metadata": {},
   "outputs": [],
   "source": [
    "import pandas as pd\n",
    "import numpy as np\n",
    "import matplotlib.pyplot as plt\n",
    "import seaborn as sns"
   ]
  },
  {
   "cell_type": "code",
   "execution_count": 2,
   "id": "d061ed40",
   "metadata": {},
   "outputs": [],
   "source": [
    "from sklearn.model_selection import train_test_split\n",
    "from sklearn.linear_model import LinearRegression, Ridge, Lasso\n",
    "from sklearn.metrics import r2_score, mean_squared_error"
   ]
  },
  {
   "cell_type": "code",
   "execution_count": 3,
   "id": "ad95c931",
   "metadata": {},
   "outputs": [],
   "source": [
    "# 데이터 가져오기"
   ]
  },
  {
   "cell_type": "code",
   "execution_count": 4,
   "id": "23d53e2b",
   "metadata": {},
   "outputs": [],
   "source": [
    "df = pd.read_csv('data/최종데이터.csv', index_col=0)"
   ]
  },
  {
   "cell_type": "code",
   "execution_count": 5,
   "id": "5f2a3e33",
   "metadata": {},
   "outputs": [
    {
     "data": {
      "text/html": [
       "<div>\n",
       "<style scoped>\n",
       "    .dataframe tbody tr th:only-of-type {\n",
       "        vertical-align: middle;\n",
       "    }\n",
       "\n",
       "    .dataframe tbody tr th {\n",
       "        vertical-align: top;\n",
       "    }\n",
       "\n",
       "    .dataframe thead th {\n",
       "        text-align: right;\n",
       "    }\n",
       "</style>\n",
       "<table border=\"1\" class=\"dataframe\">\n",
       "  <thead>\n",
       "    <tr style=\"text-align: right;\">\n",
       "      <th></th>\n",
       "      <th>date</th>\n",
       "      <th>tesla</th>\n",
       "      <th>tesla_거래량</th>\n",
       "      <th>tesla_volatility</th>\n",
       "      <th>elec_fee</th>\n",
       "      <th>oli_price</th>\n",
       "      <th>oli_price_volatility</th>\n",
       "      <th>carbon_credits</th>\n",
       "      <th>carbon_credits_volatility</th>\n",
       "      <th>EVE종가</th>\n",
       "      <th>...</th>\n",
       "      <th>alu_price</th>\n",
       "      <th>alu_vol</th>\n",
       "      <th>alu_change</th>\n",
       "      <th>cu_price</th>\n",
       "      <th>cu_change</th>\n",
       "      <th>REGI_price</th>\n",
       "      <th>REGI_vol</th>\n",
       "      <th>REGI_change</th>\n",
       "      <th>검색량</th>\n",
       "      <th>updown</th>\n",
       "    </tr>\n",
       "  </thead>\n",
       "  <tbody>\n",
       "    <tr>\n",
       "      <th>0</th>\n",
       "      <td>2015-01-02</td>\n",
       "      <td>43.86</td>\n",
       "      <td>23820.0</td>\n",
       "      <td>-1.39</td>\n",
       "      <td>6.67</td>\n",
       "      <td>52.69</td>\n",
       "      <td>-3.44</td>\n",
       "      <td>7.01</td>\n",
       "      <td>-3.31</td>\n",
       "      <td>13.38</td>\n",
       "      <td>...</td>\n",
       "      <td>1828.00</td>\n",
       "      <td>31.38</td>\n",
       "      <td>-1.12</td>\n",
       "      <td>6250.25</td>\n",
       "      <td>-0.55</td>\n",
       "      <td>9.79</td>\n",
       "      <td>436.60</td>\n",
       "      <td>0.82</td>\n",
       "      <td>22</td>\n",
       "      <td>0</td>\n",
       "    </tr>\n",
       "    <tr>\n",
       "      <th>1</th>\n",
       "      <td>2015-01-05</td>\n",
       "      <td>42.02</td>\n",
       "      <td>26840.0</td>\n",
       "      <td>-4.20</td>\n",
       "      <td>6.67</td>\n",
       "      <td>50.04</td>\n",
       "      <td>-5.03</td>\n",
       "      <td>6.90</td>\n",
       "      <td>-1.57</td>\n",
       "      <td>13.38</td>\n",
       "      <td>...</td>\n",
       "      <td>1812.25</td>\n",
       "      <td>43.25</td>\n",
       "      <td>-0.86</td>\n",
       "      <td>6142.00</td>\n",
       "      <td>-1.73</td>\n",
       "      <td>9.55</td>\n",
       "      <td>481.67</td>\n",
       "      <td>-2.45</td>\n",
       "      <td>19</td>\n",
       "      <td>0</td>\n",
       "    </tr>\n",
       "    <tr>\n",
       "      <th>2</th>\n",
       "      <td>2015-01-06</td>\n",
       "      <td>42.26</td>\n",
       "      <td>31310.0</td>\n",
       "      <td>0.57</td>\n",
       "      <td>6.67</td>\n",
       "      <td>47.93</td>\n",
       "      <td>-4.22</td>\n",
       "      <td>6.77</td>\n",
       "      <td>-1.88</td>\n",
       "      <td>13.89</td>\n",
       "      <td>...</td>\n",
       "      <td>1780.25</td>\n",
       "      <td>56.01</td>\n",
       "      <td>-1.77</td>\n",
       "      <td>6131.00</td>\n",
       "      <td>-0.18</td>\n",
       "      <td>9.12</td>\n",
       "      <td>534.76</td>\n",
       "      <td>-4.50</td>\n",
       "      <td>23</td>\n",
       "      <td>1</td>\n",
       "    </tr>\n",
       "  </tbody>\n",
       "</table>\n",
       "<p>3 rows × 47 columns</p>\n",
       "</div>"
      ],
      "text/plain": [
       "         date  tesla  tesla_거래량  tesla_volatility  elec_fee  oli_price  \\\n",
       "0  2015-01-02  43.86    23820.0             -1.39      6.67      52.69   \n",
       "1  2015-01-05  42.02    26840.0             -4.20      6.67      50.04   \n",
       "2  2015-01-06  42.26    31310.0              0.57      6.67      47.93   \n",
       "\n",
       "   oli_price_volatility  carbon_credits  carbon_credits_volatility  EVE종가  \\\n",
       "0                 -3.44            7.01                      -3.31  13.38   \n",
       "1                 -5.03            6.90                      -1.57  13.38   \n",
       "2                 -4.22            6.77                      -1.88  13.89   \n",
       "\n",
       "   ...  alu_price  alu_vol  alu_change  cu_price  cu_change  REGI_price  \\\n",
       "0  ...    1828.00    31.38       -1.12   6250.25      -0.55        9.79   \n",
       "1  ...    1812.25    43.25       -0.86   6142.00      -1.73        9.55   \n",
       "2  ...    1780.25    56.01       -1.77   6131.00      -0.18        9.12   \n",
       "\n",
       "   REGI_vol  REGI_change  검색량  updown  \n",
       "0    436.60         0.82   22       0  \n",
       "1    481.67        -2.45   19       0  \n",
       "2    534.76        -4.50   23       1  \n",
       "\n",
       "[3 rows x 47 columns]"
      ]
     },
     "execution_count": 5,
     "metadata": {},
     "output_type": "execute_result"
    }
   ],
   "source": [
    "df.head(3)"
   ]
  },
  {
   "cell_type": "code",
   "execution_count": 6,
   "id": "b80e7af1",
   "metadata": {},
   "outputs": [],
   "source": [
    "# linear모델의 경우 2019년 이후 데이터로 모델생성"
   ]
  },
  {
   "cell_type": "code",
   "execution_count": 7,
   "id": "05911387",
   "metadata": {},
   "outputs": [],
   "source": [
    "df_2019 = df.iloc[1027:]"
   ]
  },
  {
   "cell_type": "code",
   "execution_count": 8,
   "id": "4b67ab0a",
   "metadata": {},
   "outputs": [],
   "source": [
    "df_2019.reset_index(drop=True, inplace=True)"
   ]
  },
  {
   "cell_type": "code",
   "execution_count": 9,
   "id": "52298e4d",
   "metadata": {},
   "outputs": [],
   "source": [
    "# 다음날 주가 예측"
   ]
  },
  {
   "cell_type": "code",
   "execution_count": 10,
   "id": "f35cd6d1",
   "metadata": {},
   "outputs": [],
   "source": [
    "y = df_2019.tesla[5:]\n",
    "x = df_2019.drop(['tesla', 'tesla_volatility', 'updown', 'date'], axis=1)[:-5]"
   ]
  },
  {
   "cell_type": "code",
   "execution_count": 11,
   "id": "6389932e",
   "metadata": {},
   "outputs": [],
   "source": [
    "x_train = x[:640]\n",
    "x_test = x[640:]\n",
    "y_train = y[:640]\n",
    "y_test = y[640:]"
   ]
  },
  {
   "cell_type": "code",
   "execution_count": 12,
   "id": "53910831",
   "metadata": {},
   "outputs": [
    {
     "name": "stdout",
     "output_type": "stream",
     "text": [
      "LinearRegression\n",
      "-1.4053030716586359\n",
      "242.97856414714903\n",
      "Ridge\n",
      "-1.4293125460274405\n",
      "244.18824575155384\n",
      "Lasso\n",
      "-1.7776140487614605\n",
      "261.10729668838616\n"
     ]
    },
    {
     "name": "stderr",
     "output_type": "stream",
     "text": [
      "C:\\Users\\bitcamp\\anaconda3\\lib\\site-packages\\sklearn\\linear_model\\_coordinate_descent.py:647: ConvergenceWarning: Objective did not converge. You might want to increase the number of iterations, check the scale of the features or consider increasing regularisation. Duality gap: 4.248e+05, tolerance: 4.507e+03\n",
      "  model = cd_fast.enet_coordinate_descent(\n"
     ]
    }
   ],
   "source": [
    "lr = LinearRegression()\n",
    "rid = Ridge()\n",
    "las = Lasso()\n",
    "\n",
    "models = [lr, rid, las]\n",
    "\n",
    "for model in models:\n",
    "    \n",
    "    model.fit(x_train, y_train)\n",
    "    preds = model.predict(x_test)\n",
    "    \n",
    "    print(model.__class__.__name__)\n",
    "    print(r2_score(y_test, preds))\n",
    "    print(np.sqrt(mean_squared_error(y_test, preds)))"
   ]
  },
  {
   "cell_type": "code",
   "execution_count": null,
   "id": "425a127a",
   "metadata": {},
   "outputs": [],
   "source": []
  },
  {
   "cell_type": "code",
   "execution_count": 13,
   "id": "3bba4330",
   "metadata": {},
   "outputs": [],
   "source": [
    "# scalering 후 머신러닝"
   ]
  },
  {
   "cell_type": "code",
   "execution_count": 14,
   "id": "0ac6e7ed",
   "metadata": {},
   "outputs": [],
   "source": [
    "from sklearn.preprocessing import StandardScaler"
   ]
  },
  {
   "cell_type": "code",
   "execution_count": 15,
   "id": "53683554",
   "metadata": {},
   "outputs": [],
   "source": [
    "scaler = StandardScaler()"
   ]
  },
  {
   "cell_type": "code",
   "execution_count": 16,
   "id": "dc88bc5c",
   "metadata": {},
   "outputs": [
    {
     "data": {
      "text/plain": [
       "StandardScaler()"
      ]
     },
     "execution_count": 16,
     "metadata": {},
     "output_type": "execute_result"
    }
   ],
   "source": [
    "scaler.fit(x_train)"
   ]
  },
  {
   "cell_type": "code",
   "execution_count": 17,
   "id": "29511402",
   "metadata": {},
   "outputs": [],
   "source": [
    "x_train_scaled = scaler.transform(x_train)\n",
    "x_test_scaled = scaler.transform(x_test)"
   ]
  },
  {
   "cell_type": "code",
   "execution_count": null,
   "id": "8c2d9072",
   "metadata": {},
   "outputs": [],
   "source": []
  },
  {
   "cell_type": "code",
   "execution_count": 18,
   "id": "6add2bf2",
   "metadata": {},
   "outputs": [
    {
     "name": "stdout",
     "output_type": "stream",
     "text": [
      "LinearRegression\n",
      "-1.4053030666532762\n",
      "242.9785638943337\n",
      "Ridge\n",
      "-2.5775836633866547\n",
      "296.33159440438817\n",
      "Lasso\n",
      "-2.1554799094807158\n",
      "278.30164160177543\n"
     ]
    }
   ],
   "source": [
    "lr = LinearRegression()\n",
    "rid = Ridge()\n",
    "las = Lasso()\n",
    "\n",
    "models = [lr, rid, las]\n",
    "\n",
    "for model in models:\n",
    "    \n",
    "    model.fit(x_train_scaled, y_train)\n",
    "    preds = model.predict(x_test_scaled)\n",
    "    \n",
    "    print(model.__class__.__name__)\n",
    "    print(r2_score(y_test, preds))\n",
    "    print(np.sqrt(mean_squared_error(y_test, preds)))"
   ]
  },
  {
   "cell_type": "code",
   "execution_count": null,
   "id": "20356f54",
   "metadata": {},
   "outputs": [],
   "source": []
  },
  {
   "cell_type": "code",
   "execution_count": 19,
   "id": "43fb2896",
   "metadata": {},
   "outputs": [],
   "source": [
    "# 주가 변동폭 예측"
   ]
  },
  {
   "cell_type": "code",
   "execution_count": 20,
   "id": "ef084f11",
   "metadata": {},
   "outputs": [
    {
     "data": {
      "text/html": [
       "<div>\n",
       "<style scoped>\n",
       "    .dataframe tbody tr th:only-of-type {\n",
       "        vertical-align: middle;\n",
       "    }\n",
       "\n",
       "    .dataframe tbody tr th {\n",
       "        vertical-align: top;\n",
       "    }\n",
       "\n",
       "    .dataframe thead th {\n",
       "        text-align: right;\n",
       "    }\n",
       "</style>\n",
       "<table border=\"1\" class=\"dataframe\">\n",
       "  <thead>\n",
       "    <tr style=\"text-align: right;\">\n",
       "      <th></th>\n",
       "      <th>date</th>\n",
       "      <th>tesla</th>\n",
       "      <th>tesla_거래량</th>\n",
       "      <th>tesla_volatility</th>\n",
       "      <th>elec_fee</th>\n",
       "      <th>oli_price</th>\n",
       "      <th>oli_price_volatility</th>\n",
       "      <th>carbon_credits</th>\n",
       "      <th>carbon_credits_volatility</th>\n",
       "      <th>EVE종가</th>\n",
       "      <th>...</th>\n",
       "      <th>alu_price</th>\n",
       "      <th>alu_vol</th>\n",
       "      <th>alu_change</th>\n",
       "      <th>cu_price</th>\n",
       "      <th>cu_change</th>\n",
       "      <th>REGI_price</th>\n",
       "      <th>REGI_vol</th>\n",
       "      <th>REGI_change</th>\n",
       "      <th>검색량</th>\n",
       "      <th>updown</th>\n",
       "    </tr>\n",
       "  </thead>\n",
       "  <tbody>\n",
       "    <tr>\n",
       "      <th>0</th>\n",
       "      <td>2015-01-02</td>\n",
       "      <td>43.86</td>\n",
       "      <td>23820.0</td>\n",
       "      <td>-1.39</td>\n",
       "      <td>6.67</td>\n",
       "      <td>52.69</td>\n",
       "      <td>-3.44</td>\n",
       "      <td>7.01</td>\n",
       "      <td>-3.31</td>\n",
       "      <td>13.38</td>\n",
       "      <td>...</td>\n",
       "      <td>1828.00</td>\n",
       "      <td>31.38</td>\n",
       "      <td>-1.12</td>\n",
       "      <td>6250.25</td>\n",
       "      <td>-0.55</td>\n",
       "      <td>9.79</td>\n",
       "      <td>436.60</td>\n",
       "      <td>0.82</td>\n",
       "      <td>22</td>\n",
       "      <td>0</td>\n",
       "    </tr>\n",
       "    <tr>\n",
       "      <th>1</th>\n",
       "      <td>2015-01-05</td>\n",
       "      <td>42.02</td>\n",
       "      <td>26840.0</td>\n",
       "      <td>-4.20</td>\n",
       "      <td>6.67</td>\n",
       "      <td>50.04</td>\n",
       "      <td>-5.03</td>\n",
       "      <td>6.90</td>\n",
       "      <td>-1.57</td>\n",
       "      <td>13.38</td>\n",
       "      <td>...</td>\n",
       "      <td>1812.25</td>\n",
       "      <td>43.25</td>\n",
       "      <td>-0.86</td>\n",
       "      <td>6142.00</td>\n",
       "      <td>-1.73</td>\n",
       "      <td>9.55</td>\n",
       "      <td>481.67</td>\n",
       "      <td>-2.45</td>\n",
       "      <td>19</td>\n",
       "      <td>0</td>\n",
       "    </tr>\n",
       "    <tr>\n",
       "      <th>2</th>\n",
       "      <td>2015-01-06</td>\n",
       "      <td>42.26</td>\n",
       "      <td>31310.0</td>\n",
       "      <td>0.57</td>\n",
       "      <td>6.67</td>\n",
       "      <td>47.93</td>\n",
       "      <td>-4.22</td>\n",
       "      <td>6.77</td>\n",
       "      <td>-1.88</td>\n",
       "      <td>13.89</td>\n",
       "      <td>...</td>\n",
       "      <td>1780.25</td>\n",
       "      <td>56.01</td>\n",
       "      <td>-1.77</td>\n",
       "      <td>6131.00</td>\n",
       "      <td>-0.18</td>\n",
       "      <td>9.12</td>\n",
       "      <td>534.76</td>\n",
       "      <td>-4.50</td>\n",
       "      <td>23</td>\n",
       "      <td>1</td>\n",
       "    </tr>\n",
       "  </tbody>\n",
       "</table>\n",
       "<p>3 rows × 47 columns</p>\n",
       "</div>"
      ],
      "text/plain": [
       "         date  tesla  tesla_거래량  tesla_volatility  elec_fee  oli_price  \\\n",
       "0  2015-01-02  43.86    23820.0             -1.39      6.67      52.69   \n",
       "1  2015-01-05  42.02    26840.0             -4.20      6.67      50.04   \n",
       "2  2015-01-06  42.26    31310.0              0.57      6.67      47.93   \n",
       "\n",
       "   oli_price_volatility  carbon_credits  carbon_credits_volatility  EVE종가  \\\n",
       "0                 -3.44            7.01                      -3.31  13.38   \n",
       "1                 -5.03            6.90                      -1.57  13.38   \n",
       "2                 -4.22            6.77                      -1.88  13.89   \n",
       "\n",
       "   ...  alu_price  alu_vol  alu_change  cu_price  cu_change  REGI_price  \\\n",
       "0  ...    1828.00    31.38       -1.12   6250.25      -0.55        9.79   \n",
       "1  ...    1812.25    43.25       -0.86   6142.00      -1.73        9.55   \n",
       "2  ...    1780.25    56.01       -1.77   6131.00      -0.18        9.12   \n",
       "\n",
       "   REGI_vol  REGI_change  검색량  updown  \n",
       "0    436.60         0.82   22       0  \n",
       "1    481.67        -2.45   19       0  \n",
       "2    534.76        -4.50   23       1  \n",
       "\n",
       "[3 rows x 47 columns]"
      ]
     },
     "execution_count": 20,
     "metadata": {},
     "output_type": "execute_result"
    }
   ],
   "source": [
    "df.head(3)"
   ]
  },
  {
   "cell_type": "code",
   "execution_count": 21,
   "id": "9bf8b9e1",
   "metadata": {},
   "outputs": [],
   "source": [
    "y = df_2019.tesla_volatility[5:]\n",
    "x = df_2019.drop(['tesla', 'tesla_volatility', 'updown', 'date'], axis=1)[:-5]"
   ]
  },
  {
   "cell_type": "code",
   "execution_count": 22,
   "id": "34c68aa1",
   "metadata": {},
   "outputs": [],
   "source": [
    "x_train = x[:640]\n",
    "x_test = x[640:]\n",
    "y_train = y[:640]\n",
    "y_test = y[640:]"
   ]
  },
  {
   "cell_type": "code",
   "execution_count": 23,
   "id": "e7cd4a1b",
   "metadata": {
    "scrolled": true
   },
   "outputs": [
    {
     "name": "stdout",
     "output_type": "stream",
     "text": [
      "LinearRegression\n",
      "-18.478282877128564\n",
      "15.947951659661706\n",
      "Ridge\n",
      "-15.508934301433754\n",
      "14.682131039245675\n",
      "Lasso\n",
      "-0.0035090645365010165\n",
      "3.61984709606926\n"
     ]
    }
   ],
   "source": [
    "lr = LinearRegression()\n",
    "rid = Ridge()\n",
    "las = Lasso()\n",
    "\n",
    "models = [lr, rid, las]\n",
    "\n",
    "for model in models:\n",
    "    \n",
    "    model.fit(x_train_scaled, y_train)\n",
    "    preds = model.predict(x_test_scaled)\n",
    "    \n",
    "    print(model.__class__.__name__)\n",
    "    print(r2_score(y_test, preds))\n",
    "    print(np.sqrt(mean_squared_error(y_test, preds)))"
   ]
  },
  {
   "cell_type": "code",
   "execution_count": 24,
   "id": "2aa6c0ca",
   "metadata": {},
   "outputs": [],
   "source": [
    "# 전처리"
   ]
  },
  {
   "cell_type": "code",
   "execution_count": 25,
   "id": "2c5b33d4",
   "metadata": {},
   "outputs": [],
   "source": [
    "from sklearn.preprocessing import StandardScaler"
   ]
  },
  {
   "cell_type": "code",
   "execution_count": 26,
   "id": "edc9e0ee",
   "metadata": {},
   "outputs": [],
   "source": [
    "scaler = StandardScaler()"
   ]
  },
  {
   "cell_type": "code",
   "execution_count": 27,
   "id": "8050959c",
   "metadata": {},
   "outputs": [
    {
     "data": {
      "text/plain": [
       "StandardScaler()"
      ]
     },
     "execution_count": 27,
     "metadata": {},
     "output_type": "execute_result"
    }
   ],
   "source": [
    "scaler.fit(x_train)"
   ]
  },
  {
   "cell_type": "code",
   "execution_count": 28,
   "id": "efd0fa2d",
   "metadata": {},
   "outputs": [],
   "source": [
    "x_train_scaled = scaler.transform(x_train)\n",
    "x_test_scaled = scaler.transform(x_test)"
   ]
  },
  {
   "cell_type": "code",
   "execution_count": null,
   "id": "105d6170",
   "metadata": {},
   "outputs": [],
   "source": []
  },
  {
   "cell_type": "code",
   "execution_count": 29,
   "id": "1651a0f3",
   "metadata": {},
   "outputs": [
    {
     "name": "stdout",
     "output_type": "stream",
     "text": [
      "LinearRegression\n",
      "-18.478282877128564\n",
      "15.947951659661706\n",
      "Ridge\n",
      "-15.508934301433754\n",
      "14.682131039245675\n",
      "Lasso\n",
      "-0.0035090645365010165\n",
      "3.61984709606926\n"
     ]
    }
   ],
   "source": [
    "lr = LinearRegression()\n",
    "rid = Ridge()\n",
    "las = Lasso()\n",
    "\n",
    "models = [lr, rid, las]\n",
    "\n",
    "for model in models:\n",
    "    \n",
    "    model.fit(x_train_scaled, y_train)\n",
    "    preds = model.predict(x_test_scaled)\n",
    "    \n",
    "    print(model.__class__.__name__)\n",
    "    print(r2_score(y_test, preds))\n",
    "    print(np.sqrt(mean_squared_error(y_test, preds)))"
   ]
  },
  {
   "cell_type": "code",
   "execution_count": null,
   "id": "0d4bacb6",
   "metadata": {},
   "outputs": [],
   "source": []
  },
  {
   "cell_type": "code",
   "execution_count": null,
   "id": "b2851158",
   "metadata": {},
   "outputs": [],
   "source": []
  },
  {
   "cell_type": "code",
   "execution_count": null,
   "id": "27bcc751",
   "metadata": {},
   "outputs": [],
   "source": []
  },
  {
   "cell_type": "code",
   "execution_count": null,
   "id": "442c1c0c",
   "metadata": {},
   "outputs": [],
   "source": []
  },
  {
   "cell_type": "code",
   "execution_count": null,
   "id": "951a7348",
   "metadata": {},
   "outputs": [],
   "source": []
  },
  {
   "cell_type": "markdown",
   "id": "b364d9f4",
   "metadata": {},
   "source": [
    "# classification을통한 주가 상승/하락 예측"
   ]
  },
  {
   "cell_type": "code",
   "execution_count": 138,
   "id": "5afa9a2c",
   "metadata": {},
   "outputs": [],
   "source": [
    "from sklearn.linear_model import LogisticRegression\n",
    "from sklearn.ensemble import RandomForestClassifier, GradientBoostingClassifier\n",
    "from sklearn.metrics import classification_report, accuracy_score, roc_auc_score, f1_score\n",
    "from sklearn import svm\n",
    "from lightgbm import LGBMClassifier\n",
    "import xgboost as xgb"
   ]
  },
  {
   "cell_type": "markdown",
   "id": "44749c28",
   "metadata": {},
   "source": [
    "### 전처리된 데이터 가져오기"
   ]
  },
  {
   "cell_type": "code",
   "execution_count": 163,
   "id": "f13c0446",
   "metadata": {},
   "outputs": [],
   "source": [
    "df = pd.read_csv('prepro_data/최종+재무제표.csv', index_col=0)"
   ]
  },
  {
   "cell_type": "code",
   "execution_count": 140,
   "id": "e5524954",
   "metadata": {
    "scrolled": true
   },
   "outputs": [
    {
     "data": {
      "text/html": [
       "<div>\n",
       "<style scoped>\n",
       "    .dataframe tbody tr th:only-of-type {\n",
       "        vertical-align: middle;\n",
       "    }\n",
       "\n",
       "    .dataframe tbody tr th {\n",
       "        vertical-align: top;\n",
       "    }\n",
       "\n",
       "    .dataframe thead th {\n",
       "        text-align: right;\n",
       "    }\n",
       "</style>\n",
       "<table border=\"1\" class=\"dataframe\">\n",
       "  <thead>\n",
       "    <tr style=\"text-align: right;\">\n",
       "      <th></th>\n",
       "      <th>date</th>\n",
       "      <th>tesla</th>\n",
       "      <th>tesla_거래량</th>\n",
       "      <th>tesla_volatility</th>\n",
       "      <th>elec_fee</th>\n",
       "      <th>oli_price</th>\n",
       "      <th>oli_price_volatility</th>\n",
       "      <th>carbon_credits</th>\n",
       "      <th>carbon_credits_volatility</th>\n",
       "      <th>EVE종가</th>\n",
       "      <th>...</th>\n",
       "      <th>매출원가</th>\n",
       "      <th>매출총이익</th>\n",
       "      <th>영업이익</th>\n",
       "      <th>순이익</th>\n",
       "      <th>자산총계</th>\n",
       "      <th>매출총이익률</th>\n",
       "      <th>영업이익률</th>\n",
       "      <th>주당순이익EPS(달러)</th>\n",
       "      <th>주가수익배수PER(배)</th>\n",
       "      <th>총자산이익률ROA(%)</th>\n",
       "    </tr>\n",
       "  </thead>\n",
       "  <tbody>\n",
       "    <tr>\n",
       "      <th>0</th>\n",
       "      <td>2015-03-31</td>\n",
       "      <td>37.75</td>\n",
       "      <td>25130.0</td>\n",
       "      <td>-0.94</td>\n",
       "      <td>6.83</td>\n",
       "      <td>47.60</td>\n",
       "      <td>-2.22</td>\n",
       "      <td>6.92</td>\n",
       "      <td>0.58</td>\n",
       "      <td>20.09</td>\n",
       "      <td>...</td>\n",
       "      <td>2531.000000</td>\n",
       "      <td>987.0</td>\n",
       "      <td>-245.000000</td>\n",
       "      <td>-398.000000</td>\n",
       "      <td>6120.000000</td>\n",
       "      <td>28.055713</td>\n",
       "      <td>-6.964184</td>\n",
       "      <td>-0.640000</td>\n",
       "      <td>-59.590000</td>\n",
       "      <td>-7.100000</td>\n",
       "    </tr>\n",
       "    <tr>\n",
       "      <th>1</th>\n",
       "      <td>2015-04-01</td>\n",
       "      <td>37.52</td>\n",
       "      <td>18970.0</td>\n",
       "      <td>-0.61</td>\n",
       "      <td>6.61</td>\n",
       "      <td>50.09</td>\n",
       "      <td>5.23</td>\n",
       "      <td>7.14</td>\n",
       "      <td>3.18</td>\n",
       "      <td>21.49</td>\n",
       "      <td>...</td>\n",
       "      <td>2533.936508</td>\n",
       "      <td>987.0</td>\n",
       "      <td>-247.253968</td>\n",
       "      <td>-399.952381</td>\n",
       "      <td>6125.523810</td>\n",
       "      <td>28.033465</td>\n",
       "      <td>-7.019530</td>\n",
       "      <td>-0.643016</td>\n",
       "      <td>-59.677778</td>\n",
       "      <td>-7.125397</td>\n",
       "    </tr>\n",
       "    <tr>\n",
       "      <th>2</th>\n",
       "      <td>2015-04-02</td>\n",
       "      <td>38.20</td>\n",
       "      <td>25050.0</td>\n",
       "      <td>1.81</td>\n",
       "      <td>6.61</td>\n",
       "      <td>49.14</td>\n",
       "      <td>-1.90</td>\n",
       "      <td>7.15</td>\n",
       "      <td>0.14</td>\n",
       "      <td>21.66</td>\n",
       "      <td>...</td>\n",
       "      <td>2536.873016</td>\n",
       "      <td>987.0</td>\n",
       "      <td>-249.507937</td>\n",
       "      <td>-401.904762</td>\n",
       "      <td>6131.047619</td>\n",
       "      <td>28.011217</td>\n",
       "      <td>-7.074876</td>\n",
       "      <td>-0.646032</td>\n",
       "      <td>-59.765556</td>\n",
       "      <td>-7.150794</td>\n",
       "    </tr>\n",
       "  </tbody>\n",
       "</table>\n",
       "<p>3 rows × 58 columns</p>\n",
       "</div>"
      ],
      "text/plain": [
       "         date  tesla  tesla_거래량  tesla_volatility  elec_fee  oli_price  \\\n",
       "0  2015-03-31  37.75    25130.0             -0.94      6.83      47.60   \n",
       "1  2015-04-01  37.52    18970.0             -0.61      6.61      50.09   \n",
       "2  2015-04-02  38.20    25050.0              1.81      6.61      49.14   \n",
       "\n",
       "   oli_price_volatility  carbon_credits  carbon_credits_volatility  EVE종가  \\\n",
       "0                 -2.22            6.92                       0.58  20.09   \n",
       "1                  5.23            7.14                       3.18  21.49   \n",
       "2                 -1.90            7.15                       0.14  21.66   \n",
       "\n",
       "   ...         매출원가  매출총이익        영업이익         순이익         자산총계     매출총이익률  \\\n",
       "0  ...  2531.000000  987.0 -245.000000 -398.000000  6120.000000  28.055713   \n",
       "1  ...  2533.936508  987.0 -247.253968 -399.952381  6125.523810  28.033465   \n",
       "2  ...  2536.873016  987.0 -249.507937 -401.904762  6131.047619  28.011217   \n",
       "\n",
       "      영업이익률  주당순이익EPS(달러)  주가수익배수PER(배)  총자산이익률ROA(%)  \n",
       "0 -6.964184     -0.640000    -59.590000     -7.100000  \n",
       "1 -7.019530     -0.643016    -59.677778     -7.125397  \n",
       "2 -7.074876     -0.646032    -59.765556     -7.150794  \n",
       "\n",
       "[3 rows x 58 columns]"
      ]
     },
     "execution_count": 140,
     "metadata": {},
     "output_type": "execute_result"
    }
   ],
   "source": [
    "df.head(3)"
   ]
  },
  {
   "cell_type": "markdown",
   "id": "5d87de3b",
   "metadata": {},
   "source": [
    "### 모든 칼럼을 넣어 모델 돌려보기"
   ]
  },
  {
   "cell_type": "code",
   "execution_count": 167,
   "id": "17a5098b",
   "metadata": {},
   "outputs": [],
   "source": [
    "y = df.updown[5:]\n",
    "x = df.drop(['date', 'updown'], axis=1)[:-5]"
   ]
  },
  {
   "cell_type": "markdown",
   "id": "f69af569",
   "metadata": {},
   "source": [
    "### train, test 비율 8:2 "
   ]
  },
  {
   "cell_type": "code",
   "execution_count": 168,
   "id": "ea38f823",
   "metadata": {},
   "outputs": [],
   "source": [
    "x_train = x[:1444]\n",
    "x_test = x[1444:]\n",
    "y_train = y[:1444]\n",
    "y_test = y[1444:]"
   ]
  },
  {
   "cell_type": "markdown",
   "id": "9ea7a05b",
   "metadata": {},
   "source": [
    "### Classification 모델을 다양하게 돌려보기"
   ]
  },
  {
   "cell_type": "code",
   "execution_count": 171,
   "id": "1e5b82af",
   "metadata": {},
   "outputs": [
    {
     "name": "stdout",
     "output_type": "stream",
     "text": [
      "LogisticRegression\n",
      "accuracy_score : 0.5363128491620112\n",
      "f1_score : 0.6970802919708029\n",
      "RandomForestClassifier\n",
      "accuracy_score : 0.5251396648044693\n",
      "f1_score : 0.6046511627906976\n",
      "SVC\n",
      "accuracy_score : 0.5363128491620112\n",
      "f1_score : 0.6981818181818182\n",
      "LGBMClassifier\n",
      "accuracy_score : 0.5446927374301676\n",
      "f1_score : 0.6733466933867736\n",
      "GradientBoostingClassifier\n",
      "accuracy_score : 0.5614525139664804\n",
      "f1_score : 0.6974951830443161\n",
      "[12:08:15] WARNING: C:/Users/Administrator/workspace/xgboost-win64_release_1.5.1/src/learner.cc:1115: Starting in XGBoost 1.3.0, the default evaluation metric used with the objective 'binary:logistic' was changed from 'error' to 'logloss'. Explicitly set eval_metric if you'd like to restore the old behavior.\n"
     ]
    },
    {
     "name": "stderr",
     "output_type": "stream",
     "text": [
      "C:\\Users\\bitcamp\\anaconda3\\lib\\site-packages\\xgboost\\sklearn.py:1224: UserWarning: The use of label encoder in XGBClassifier is deprecated and will be removed in a future release. To remove this warning, do the following: 1) Pass option use_label_encoder=False when constructing XGBClassifier object; and 2) Encode your labels (y) as integers starting with 0, i.e. 0, 1, 2, ..., [num_class - 1].\n",
      "  warnings.warn(label_encoder_deprecation_msg, UserWarning)\n"
     ]
    },
    {
     "name": "stdout",
     "output_type": "stream",
     "text": [
      "XGBClassifier\n",
      "accuracy_score : 0.5195530726256983\n",
      "f1_score : 0.5763546798029556\n"
     ]
    }
   ],
   "source": [
    "lg = LogisticRegression()\n",
    "rfc = RandomForestClassifier()\n",
    "svc = svm.SVC()\n",
    "lgbm = LGBMClassifier()\n",
    "gbs = GradientBoostingClassifier()\n",
    "xgbs = xgb.XGBClassifier()\n",
    "\n",
    "models = [lg, rfc, svc, lgbm, gbs, xgbs]\n",
    "\n",
    "for model in models:\n",
    "    model.fit(x_train, y_train)\n",
    "    preds = model.predict(x_test)\n",
    "    print(model.__class__.__name__)\n",
    "    print('accuracy_score :', accuracy_score(y_test, preds))\n",
    "    print('f1_score :', f1_score(y_test, preds))\n",
    "    #print('classification_report :', classification_report(y_test, preds)) "
   ]
  },
  {
   "cell_type": "markdown",
   "id": "e9835e79",
   "metadata": {},
   "source": [
    "### 스케일링"
   ]
  },
  {
   "cell_type": "code",
   "execution_count": 172,
   "id": "27d3445d",
   "metadata": {},
   "outputs": [],
   "source": [
    "from sklearn.preprocessing import StandardScaler"
   ]
  },
  {
   "cell_type": "code",
   "execution_count": 173,
   "id": "18dfe661",
   "metadata": {},
   "outputs": [],
   "source": [
    "scaler = StandardScaler()"
   ]
  },
  {
   "cell_type": "code",
   "execution_count": 174,
   "id": "0d976419",
   "metadata": {},
   "outputs": [
    {
     "data": {
      "text/plain": [
       "StandardScaler()"
      ]
     },
     "execution_count": 174,
     "metadata": {},
     "output_type": "execute_result"
    }
   ],
   "source": [
    "scaler.fit(x_train)"
   ]
  },
  {
   "cell_type": "code",
   "execution_count": 175,
   "id": "1eeafddd",
   "metadata": {},
   "outputs": [],
   "source": [
    "x_train_scaled = scaler.transform(x_train)\n",
    "x_test_scaled = scaler.transform(x_test)"
   ]
  },
  {
   "cell_type": "code",
   "execution_count": 176,
   "id": "e33f4436",
   "metadata": {},
   "outputs": [
    {
     "name": "stderr",
     "output_type": "stream",
     "text": [
      "C:\\Users\\bitcamp\\anaconda3\\lib\\site-packages\\sklearn\\linear_model\\_logistic.py:814: ConvergenceWarning: lbfgs failed to converge (status=1):\n",
      "STOP: TOTAL NO. of ITERATIONS REACHED LIMIT.\n",
      "\n",
      "Increase the number of iterations (max_iter) or scale the data as shown in:\n",
      "    https://scikit-learn.org/stable/modules/preprocessing.html\n",
      "Please also refer to the documentation for alternative solver options:\n",
      "    https://scikit-learn.org/stable/modules/linear_model.html#logistic-regression\n",
      "  n_iter_i = _check_optimize_result(\n"
     ]
    },
    {
     "name": "stdout",
     "output_type": "stream",
     "text": [
      "LogisticRegression\n",
      "accuracy_score : 0.5391061452513967\n",
      "roc_auc_score : 0.5384977409638554\n",
      "RandomForestClassifier\n",
      "accuracy_score : 0.5167597765363129\n",
      "roc_auc_score : 0.4968624497991968\n",
      "SVC\n",
      "accuracy_score : 0.5363128491620112\n",
      "roc_auc_score : 0.5\n",
      "LGBMClassifier\n",
      "accuracy_score : 0.5586592178770949\n",
      "roc_auc_score : 0.5310303714859438\n",
      "GradientBoostingClassifier\n",
      "accuracy_score : 0.5363128491620112\n",
      "roc_auc_score : 0.5044866967871486\n",
      "[12:08:39] WARNING: C:/Users/Administrator/workspace/xgboost-win64_release_1.5.1/src/learner.cc:1115: Starting in XGBoost 1.3.0, the default evaluation metric used with the objective 'binary:logistic' was changed from 'error' to 'logloss'. Explicitly set eval_metric if you'd like to restore the old behavior.\n"
     ]
    },
    {
     "name": "stderr",
     "output_type": "stream",
     "text": [
      "C:\\Users\\bitcamp\\anaconda3\\lib\\site-packages\\xgboost\\sklearn.py:1224: UserWarning: The use of label encoder in XGBClassifier is deprecated and will be removed in a future release. To remove this warning, do the following: 1) Pass option use_label_encoder=False when constructing XGBClassifier object; and 2) Encode your labels (y) as integers starting with 0, i.e. 0, 1, 2, ..., [num_class - 1].\n",
      "  warnings.warn(label_encoder_deprecation_msg, UserWarning)\n"
     ]
    },
    {
     "name": "stdout",
     "output_type": "stream",
     "text": [
      "XGBClassifier\n",
      "accuracy_score : 0.5223463687150838\n",
      "roc_auc_score : 0.5151229919678715\n"
     ]
    }
   ],
   "source": [
    "for model in models:\n",
    "    model.fit(x_train_scaled, y_train)\n",
    "    preds = model.predict(x_test_scaled)\n",
    "    print(model.__class__.__name__)\n",
    "    print('accuracy_score :', accuracy_score(y_test, preds))\n",
    "    print('roc_auc_score :', roc_auc_score(y_test, preds))"
   ]
  },
  {
   "cell_type": "markdown",
   "id": "7971f5aa",
   "metadata": {},
   "source": [
    "### GridSearch를 사용하여 최적의 파라미터 검색하기\n",
    "Cross-validation을 사용하여 시계열 데이터 분석에 적합하지 않음"
   ]
  },
  {
   "cell_type": "code",
   "execution_count": 149,
   "id": "13a02bb1",
   "metadata": {},
   "outputs": [],
   "source": [
    "from sklearn.model_selection import GridSearchCV, KFold"
   ]
  },
  {
   "cell_type": "code",
   "execution_count": 150,
   "id": "a96157d3",
   "metadata": {
    "collapsed": true
   },
   "outputs": [
    {
     "ename": "KeyboardInterrupt",
     "evalue": "",
     "output_type": "error",
     "traceback": [
      "\u001b[1;31m---------------------------------------------------------------------------\u001b[0m",
      "\u001b[1;31mKeyboardInterrupt\u001b[0m                         Traceback (most recent call last)",
      "\u001b[1;32m~\\AppData\\Local\\Temp/ipykernel_5972/911645063.py\u001b[0m in \u001b[0;36m<module>\u001b[1;34m\u001b[0m\n\u001b[0;32m      6\u001b[0m \u001b[0mcv\u001b[0m\u001b[1;33m=\u001b[0m\u001b[0mKFold\u001b[0m\u001b[1;33m(\u001b[0m\u001b[1;33m)\u001b[0m\u001b[1;33m\u001b[0m\u001b[1;33m\u001b[0m\u001b[0m\n\u001b[0;32m      7\u001b[0m \u001b[0mgcv\u001b[0m\u001b[1;33m=\u001b[0m\u001b[0mGridSearchCV\u001b[0m\u001b[1;33m(\u001b[0m\u001b[0mlgbm\u001b[0m\u001b[1;33m,\u001b[0m \u001b[0mparam_grid\u001b[0m\u001b[1;33m=\u001b[0m\u001b[0mparam_grid\u001b[0m\u001b[1;33m,\u001b[0m \u001b[0mcv\u001b[0m\u001b[1;33m=\u001b[0m\u001b[0mcv\u001b[0m\u001b[1;33m,\u001b[0m \u001b[0mscoring\u001b[0m\u001b[1;33m=\u001b[0m\u001b[1;34m'accuracy'\u001b[0m\u001b[1;33m,\u001b[0m \u001b[0mn_jobs\u001b[0m\u001b[1;33m=\u001b[0m\u001b[1;36m4\u001b[0m\u001b[1;33m)\u001b[0m\u001b[1;33m\u001b[0m\u001b[1;33m\u001b[0m\u001b[0m\n\u001b[1;32m----> 8\u001b[1;33m \u001b[0mgcv\u001b[0m\u001b[1;33m.\u001b[0m\u001b[0mfit\u001b[0m\u001b[1;33m(\u001b[0m\u001b[0mx_train\u001b[0m\u001b[1;33m,\u001b[0m \u001b[0my_train\u001b[0m\u001b[1;33m)\u001b[0m\u001b[1;33m\u001b[0m\u001b[1;33m\u001b[0m\u001b[0m\n\u001b[0m\u001b[0;32m      9\u001b[0m \u001b[0mprint\u001b[0m\u001b[1;33m(\u001b[0m\u001b[1;34m'final params'\u001b[0m\u001b[1;33m,\u001b[0m \u001b[0mgcv\u001b[0m\u001b[1;33m.\u001b[0m\u001b[0mbest_params_\u001b[0m\u001b[1;33m)\u001b[0m   \u001b[1;31m# 최적의 파라미터 값 출력\u001b[0m\u001b[1;33m\u001b[0m\u001b[1;33m\u001b[0m\u001b[0m\n\u001b[0;32m     10\u001b[0m \u001b[0mprint\u001b[0m\u001b[1;33m(\u001b[0m\u001b[1;34m'best score'\u001b[0m\u001b[1;33m,\u001b[0m \u001b[0mgcv\u001b[0m\u001b[1;33m.\u001b[0m\u001b[0mbest_score_\u001b[0m\u001b[1;33m)\u001b[0m\u001b[1;33m\u001b[0m\u001b[1;33m\u001b[0m\u001b[0m\n",
      "\u001b[1;32m~\\anaconda3\\lib\\site-packages\\sklearn\\model_selection\\_search.py\u001b[0m in \u001b[0;36mfit\u001b[1;34m(self, X, y, groups, **fit_params)\u001b[0m\n\u001b[0;32m    889\u001b[0m                 \u001b[1;32mreturn\u001b[0m \u001b[0mresults\u001b[0m\u001b[1;33m\u001b[0m\u001b[1;33m\u001b[0m\u001b[0m\n\u001b[0;32m    890\u001b[0m \u001b[1;33m\u001b[0m\u001b[0m\n\u001b[1;32m--> 891\u001b[1;33m             \u001b[0mself\u001b[0m\u001b[1;33m.\u001b[0m\u001b[0m_run_search\u001b[0m\u001b[1;33m(\u001b[0m\u001b[0mevaluate_candidates\u001b[0m\u001b[1;33m)\u001b[0m\u001b[1;33m\u001b[0m\u001b[1;33m\u001b[0m\u001b[0m\n\u001b[0m\u001b[0;32m    892\u001b[0m \u001b[1;33m\u001b[0m\u001b[0m\n\u001b[0;32m    893\u001b[0m             \u001b[1;31m# multimetric is determined here because in the case of a callable\u001b[0m\u001b[1;33m\u001b[0m\u001b[1;33m\u001b[0m\u001b[0m\n",
      "\u001b[1;32m~\\anaconda3\\lib\\site-packages\\sklearn\\model_selection\\_search.py\u001b[0m in \u001b[0;36m_run_search\u001b[1;34m(self, evaluate_candidates)\u001b[0m\n\u001b[0;32m   1390\u001b[0m     \u001b[1;32mdef\u001b[0m \u001b[0m_run_search\u001b[0m\u001b[1;33m(\u001b[0m\u001b[0mself\u001b[0m\u001b[1;33m,\u001b[0m \u001b[0mevaluate_candidates\u001b[0m\u001b[1;33m)\u001b[0m\u001b[1;33m:\u001b[0m\u001b[1;33m\u001b[0m\u001b[1;33m\u001b[0m\u001b[0m\n\u001b[0;32m   1391\u001b[0m         \u001b[1;34m\"\"\"Search all candidates in param_grid\"\"\"\u001b[0m\u001b[1;33m\u001b[0m\u001b[1;33m\u001b[0m\u001b[0m\n\u001b[1;32m-> 1392\u001b[1;33m         \u001b[0mevaluate_candidates\u001b[0m\u001b[1;33m(\u001b[0m\u001b[0mParameterGrid\u001b[0m\u001b[1;33m(\u001b[0m\u001b[0mself\u001b[0m\u001b[1;33m.\u001b[0m\u001b[0mparam_grid\u001b[0m\u001b[1;33m)\u001b[0m\u001b[1;33m)\u001b[0m\u001b[1;33m\u001b[0m\u001b[1;33m\u001b[0m\u001b[0m\n\u001b[0m\u001b[0;32m   1393\u001b[0m \u001b[1;33m\u001b[0m\u001b[0m\n\u001b[0;32m   1394\u001b[0m \u001b[1;33m\u001b[0m\u001b[0m\n",
      "\u001b[1;32m~\\anaconda3\\lib\\site-packages\\sklearn\\model_selection\\_search.py\u001b[0m in \u001b[0;36mevaluate_candidates\u001b[1;34m(candidate_params, cv, more_results)\u001b[0m\n\u001b[0;32m    836\u001b[0m                     )\n\u001b[0;32m    837\u001b[0m \u001b[1;33m\u001b[0m\u001b[0m\n\u001b[1;32m--> 838\u001b[1;33m                 out = parallel(\n\u001b[0m\u001b[0;32m    839\u001b[0m                     delayed(_fit_and_score)(\n\u001b[0;32m    840\u001b[0m                         \u001b[0mclone\u001b[0m\u001b[1;33m(\u001b[0m\u001b[0mbase_estimator\u001b[0m\u001b[1;33m)\u001b[0m\u001b[1;33m,\u001b[0m\u001b[1;33m\u001b[0m\u001b[1;33m\u001b[0m\u001b[0m\n",
      "\u001b[1;32m~\\anaconda3\\lib\\site-packages\\joblib\\parallel.py\u001b[0m in \u001b[0;36m__call__\u001b[1;34m(self, iterable)\u001b[0m\n\u001b[0;32m   1052\u001b[0m \u001b[1;33m\u001b[0m\u001b[0m\n\u001b[0;32m   1053\u001b[0m             \u001b[1;32mwith\u001b[0m \u001b[0mself\u001b[0m\u001b[1;33m.\u001b[0m\u001b[0m_backend\u001b[0m\u001b[1;33m.\u001b[0m\u001b[0mretrieval_context\u001b[0m\u001b[1;33m(\u001b[0m\u001b[1;33m)\u001b[0m\u001b[1;33m:\u001b[0m\u001b[1;33m\u001b[0m\u001b[1;33m\u001b[0m\u001b[0m\n\u001b[1;32m-> 1054\u001b[1;33m                 \u001b[0mself\u001b[0m\u001b[1;33m.\u001b[0m\u001b[0mretrieve\u001b[0m\u001b[1;33m(\u001b[0m\u001b[1;33m)\u001b[0m\u001b[1;33m\u001b[0m\u001b[1;33m\u001b[0m\u001b[0m\n\u001b[0m\u001b[0;32m   1055\u001b[0m             \u001b[1;31m# Make sure that we get a last message telling us we are done\u001b[0m\u001b[1;33m\u001b[0m\u001b[1;33m\u001b[0m\u001b[0m\n\u001b[0;32m   1056\u001b[0m             \u001b[0melapsed_time\u001b[0m \u001b[1;33m=\u001b[0m \u001b[0mtime\u001b[0m\u001b[1;33m.\u001b[0m\u001b[0mtime\u001b[0m\u001b[1;33m(\u001b[0m\u001b[1;33m)\u001b[0m \u001b[1;33m-\u001b[0m \u001b[0mself\u001b[0m\u001b[1;33m.\u001b[0m\u001b[0m_start_time\u001b[0m\u001b[1;33m\u001b[0m\u001b[1;33m\u001b[0m\u001b[0m\n",
      "\u001b[1;32m~\\anaconda3\\lib\\site-packages\\joblib\\parallel.py\u001b[0m in \u001b[0;36mretrieve\u001b[1;34m(self)\u001b[0m\n\u001b[0;32m    931\u001b[0m             \u001b[1;32mtry\u001b[0m\u001b[1;33m:\u001b[0m\u001b[1;33m\u001b[0m\u001b[1;33m\u001b[0m\u001b[0m\n\u001b[0;32m    932\u001b[0m                 \u001b[1;32mif\u001b[0m \u001b[0mgetattr\u001b[0m\u001b[1;33m(\u001b[0m\u001b[0mself\u001b[0m\u001b[1;33m.\u001b[0m\u001b[0m_backend\u001b[0m\u001b[1;33m,\u001b[0m \u001b[1;34m'supports_timeout'\u001b[0m\u001b[1;33m,\u001b[0m \u001b[1;32mFalse\u001b[0m\u001b[1;33m)\u001b[0m\u001b[1;33m:\u001b[0m\u001b[1;33m\u001b[0m\u001b[1;33m\u001b[0m\u001b[0m\n\u001b[1;32m--> 933\u001b[1;33m                     \u001b[0mself\u001b[0m\u001b[1;33m.\u001b[0m\u001b[0m_output\u001b[0m\u001b[1;33m.\u001b[0m\u001b[0mextend\u001b[0m\u001b[1;33m(\u001b[0m\u001b[0mjob\u001b[0m\u001b[1;33m.\u001b[0m\u001b[0mget\u001b[0m\u001b[1;33m(\u001b[0m\u001b[0mtimeout\u001b[0m\u001b[1;33m=\u001b[0m\u001b[0mself\u001b[0m\u001b[1;33m.\u001b[0m\u001b[0mtimeout\u001b[0m\u001b[1;33m)\u001b[0m\u001b[1;33m)\u001b[0m\u001b[1;33m\u001b[0m\u001b[1;33m\u001b[0m\u001b[0m\n\u001b[0m\u001b[0;32m    934\u001b[0m                 \u001b[1;32melse\u001b[0m\u001b[1;33m:\u001b[0m\u001b[1;33m\u001b[0m\u001b[1;33m\u001b[0m\u001b[0m\n\u001b[0;32m    935\u001b[0m                     \u001b[0mself\u001b[0m\u001b[1;33m.\u001b[0m\u001b[0m_output\u001b[0m\u001b[1;33m.\u001b[0m\u001b[0mextend\u001b[0m\u001b[1;33m(\u001b[0m\u001b[0mjob\u001b[0m\u001b[1;33m.\u001b[0m\u001b[0mget\u001b[0m\u001b[1;33m(\u001b[0m\u001b[1;33m)\u001b[0m\u001b[1;33m)\u001b[0m\u001b[1;33m\u001b[0m\u001b[1;33m\u001b[0m\u001b[0m\n",
      "\u001b[1;32m~\\anaconda3\\lib\\site-packages\\joblib\\_parallel_backends.py\u001b[0m in \u001b[0;36mwrap_future_result\u001b[1;34m(future, timeout)\u001b[0m\n\u001b[0;32m    540\u001b[0m         AsyncResults.get from multiprocessing.\"\"\"\n\u001b[0;32m    541\u001b[0m         \u001b[1;32mtry\u001b[0m\u001b[1;33m:\u001b[0m\u001b[1;33m\u001b[0m\u001b[1;33m\u001b[0m\u001b[0m\n\u001b[1;32m--> 542\u001b[1;33m             \u001b[1;32mreturn\u001b[0m \u001b[0mfuture\u001b[0m\u001b[1;33m.\u001b[0m\u001b[0mresult\u001b[0m\u001b[1;33m(\u001b[0m\u001b[0mtimeout\u001b[0m\u001b[1;33m=\u001b[0m\u001b[0mtimeout\u001b[0m\u001b[1;33m)\u001b[0m\u001b[1;33m\u001b[0m\u001b[1;33m\u001b[0m\u001b[0m\n\u001b[0m\u001b[0;32m    543\u001b[0m         \u001b[1;32mexcept\u001b[0m \u001b[0mCfTimeoutError\u001b[0m \u001b[1;32mas\u001b[0m \u001b[0me\u001b[0m\u001b[1;33m:\u001b[0m\u001b[1;33m\u001b[0m\u001b[1;33m\u001b[0m\u001b[0m\n\u001b[0;32m    544\u001b[0m             \u001b[1;32mraise\u001b[0m \u001b[0mTimeoutError\u001b[0m \u001b[1;32mfrom\u001b[0m \u001b[0me\u001b[0m\u001b[1;33m\u001b[0m\u001b[1;33m\u001b[0m\u001b[0m\n",
      "\u001b[1;32m~\\anaconda3\\lib\\concurrent\\futures\\_base.py\u001b[0m in \u001b[0;36mresult\u001b[1;34m(self, timeout)\u001b[0m\n\u001b[0;32m    438\u001b[0m                     \u001b[1;32mreturn\u001b[0m \u001b[0mself\u001b[0m\u001b[1;33m.\u001b[0m\u001b[0m__get_result\u001b[0m\u001b[1;33m(\u001b[0m\u001b[1;33m)\u001b[0m\u001b[1;33m\u001b[0m\u001b[1;33m\u001b[0m\u001b[0m\n\u001b[0;32m    439\u001b[0m \u001b[1;33m\u001b[0m\u001b[0m\n\u001b[1;32m--> 440\u001b[1;33m                 \u001b[0mself\u001b[0m\u001b[1;33m.\u001b[0m\u001b[0m_condition\u001b[0m\u001b[1;33m.\u001b[0m\u001b[0mwait\u001b[0m\u001b[1;33m(\u001b[0m\u001b[0mtimeout\u001b[0m\u001b[1;33m)\u001b[0m\u001b[1;33m\u001b[0m\u001b[1;33m\u001b[0m\u001b[0m\n\u001b[0m\u001b[0;32m    441\u001b[0m \u001b[1;33m\u001b[0m\u001b[0m\n\u001b[0;32m    442\u001b[0m                 \u001b[1;32mif\u001b[0m \u001b[0mself\u001b[0m\u001b[1;33m.\u001b[0m\u001b[0m_state\u001b[0m \u001b[1;32min\u001b[0m \u001b[1;33m[\u001b[0m\u001b[0mCANCELLED\u001b[0m\u001b[1;33m,\u001b[0m \u001b[0mCANCELLED_AND_NOTIFIED\u001b[0m\u001b[1;33m]\u001b[0m\u001b[1;33m:\u001b[0m\u001b[1;33m\u001b[0m\u001b[1;33m\u001b[0m\u001b[0m\n",
      "\u001b[1;32m~\\anaconda3\\lib\\threading.py\u001b[0m in \u001b[0;36mwait\u001b[1;34m(self, timeout)\u001b[0m\n\u001b[0;32m    310\u001b[0m         \u001b[1;32mtry\u001b[0m\u001b[1;33m:\u001b[0m    \u001b[1;31m# restore state no matter what (e.g., KeyboardInterrupt)\u001b[0m\u001b[1;33m\u001b[0m\u001b[1;33m\u001b[0m\u001b[0m\n\u001b[0;32m    311\u001b[0m             \u001b[1;32mif\u001b[0m \u001b[0mtimeout\u001b[0m \u001b[1;32mis\u001b[0m \u001b[1;32mNone\u001b[0m\u001b[1;33m:\u001b[0m\u001b[1;33m\u001b[0m\u001b[1;33m\u001b[0m\u001b[0m\n\u001b[1;32m--> 312\u001b[1;33m                 \u001b[0mwaiter\u001b[0m\u001b[1;33m.\u001b[0m\u001b[0macquire\u001b[0m\u001b[1;33m(\u001b[0m\u001b[1;33m)\u001b[0m\u001b[1;33m\u001b[0m\u001b[1;33m\u001b[0m\u001b[0m\n\u001b[0m\u001b[0;32m    313\u001b[0m                 \u001b[0mgotit\u001b[0m \u001b[1;33m=\u001b[0m \u001b[1;32mTrue\u001b[0m\u001b[1;33m\u001b[0m\u001b[1;33m\u001b[0m\u001b[0m\n\u001b[0;32m    314\u001b[0m             \u001b[1;32melse\u001b[0m\u001b[1;33m:\u001b[0m\u001b[1;33m\u001b[0m\u001b[1;33m\u001b[0m\u001b[0m\n",
      "\u001b[1;31mKeyboardInterrupt\u001b[0m: "
     ]
    }
   ],
   "source": [
    "param_grid={\n",
    "    'max_depth':[1,3,5,6,8,10],\n",
    "    'min_data_in_leaf': [10,15,20,25,30],\n",
    "    'n_estimators':[100, 200, 300, 400, 500]\n",
    "}\n",
    "cv=KFold()\n",
    "gcv=GridSearchCV(lgbm, param_grid=param_grid, cv=cv, scoring='accuracy', n_jobs=4)\n",
    "gcv.fit(x_train, y_train)\n",
    "print('final params', gcv.best_params_)   # 최적의 파라미터 값 출력\n",
    "print('best score', gcv.best_score_) "
   ]
  },
  {
   "cell_type": "code",
   "execution_count": null,
   "id": "eace50c3",
   "metadata": {},
   "outputs": [],
   "source": [
    "em = gcv.best_estimator_"
   ]
  },
  {
   "cell_type": "code",
   "execution_count": null,
   "id": "da4104c5",
   "metadata": {},
   "outputs": [],
   "source": [
    "em.fit(x_train, y_train)"
   ]
  },
  {
   "cell_type": "code",
   "execution_count": null,
   "id": "e04f64d1",
   "metadata": {},
   "outputs": [],
   "source": [
    "em.score(x_test, y_test)"
   ]
  },
  {
   "cell_type": "markdown",
   "id": "c85d2fe4",
   "metadata": {},
   "source": [
    "### 폰트 설정"
   ]
  },
  {
   "cell_type": "code",
   "execution_count": 177,
   "id": "b43b0cc2",
   "metadata": {},
   "outputs": [],
   "source": [
    "plt.rcParams['font.family'] = 'Malgun Gothic'"
   ]
  },
  {
   "cell_type": "markdown",
   "id": "33d64f9e",
   "metadata": {},
   "source": [
    "### 피쳐 중요도 구하기"
   ]
  },
  {
   "cell_type": "code",
   "execution_count": 154,
   "id": "11bddcad",
   "metadata": {},
   "outputs": [],
   "source": [
    "from lightgbm import plot_importance"
   ]
  },
  {
   "cell_type": "code",
   "execution_count": 155,
   "id": "c7813722",
   "metadata": {},
   "outputs": [],
   "source": [
    "sorted_idx = lgbm.feature_importances_.argsort()"
   ]
  },
  {
   "cell_type": "code",
   "execution_count": 156,
   "id": "de9ba2dd",
   "metadata": {},
   "outputs": [
    {
     "data": {
      "text/plain": [
       "Index(['자산총계', '총자산이익률ROA(%)', '매출총이익', '매출액', '영업이익률', 'li_price', 'PSI종가',\n",
       "       '매출원가', 'SGL종가', 'LIT조정종가', '영업이익', 'SOXX종가', 'co', '매출총이익률',\n",
       "       '주가수익배수PER(배)', 'alu_price', 'elec_fee', 'SOXL종가', '희토류가격',\n",
       "       '주당순이익EPS(달러)', 'nasdaq', '순이익', 'carbon_credits', 'REGI_price',\n",
       "       'EVE종가', 'oli_price', 'tesla', 'LIT거래량', 'ssec', 'cu_price', '검색량',\n",
       "       'dollar', 'BYD종가', 'BYD거래량', 'nasdaq_volatility', 'EVE거래량',\n",
       "       'co_volatility', 'tesla_거래량', 'SGL변동률', 'ssec_거래량', 'SOXL거래량',\n",
       "       'alu_vol', 'EVE변동률', 'BYD변동률', 'nasdaq_거래량', 'tesla_volatility',\n",
       "       'carbon_credits_volatility', 'REGI_change', 'cu_change', 'SOXX거래량',\n",
       "       'oli_price_volatility', 'REGI_vol', 'PSI거래량', 'dollar_volatility',\n",
       "       'alu_change', 'ssec_volatility'],\n",
       "      dtype='object')"
      ]
     },
     "execution_count": 156,
     "metadata": {},
     "output_type": "execute_result"
    }
   ],
   "source": [
    "x.iloc[:, sorted_idx].columns"
   ]
  },
  {
   "cell_type": "markdown",
   "id": "a8cb234d",
   "metadata": {},
   "source": [
    "### 칼럼 조합별 최고 accuracy 구하기"
   ]
  },
  {
   "cell_type": "code",
   "execution_count": 182,
   "id": "e769b53f",
   "metadata": {},
   "outputs": [],
   "source": [
    "from itertools import combinations"
   ]
  },
  {
   "cell_type": "code",
   "execution_count": 183,
   "id": "d1f5c2f7",
   "metadata": {},
   "outputs": [],
   "source": [
    "# columns_li = list(combinations(x.columns,5))"
   ]
  },
  {
   "cell_type": "code",
   "execution_count": 184,
   "id": "0bc24b1f",
   "metadata": {},
   "outputs": [],
   "source": [
    "# len(columns_li)"
   ]
  },
  {
   "cell_type": "code",
   "execution_count": 185,
   "id": "60008b6a",
   "metadata": {},
   "outputs": [],
   "source": [
    "# models = [lgbm, xgbs]\n",
    "\n",
    "# y = df.updown[5:]\n",
    "# y_train = y[:1444]\n",
    "# y_test = y[1444:]\n",
    "# best_score = 0\n",
    "# over55 = []\n",
    "# for li in columns_li:\n",
    "#     x = df.loc[:, li][:-5]\n",
    "#     x_train = x[:1444]\n",
    "#     x_test = x[1444:]\n",
    "#     for model in models:\n",
    "#         model.fit(x_train, y_train)\n",
    "#         preds = model.predict(x_test)\n",
    "#         accuracy = accuracy_score(y_test, preds)\n",
    "#         print(model.__class__.__name__)\n",
    "#         print('accuracy_score :', accuracy)\n",
    "#         if accuracy >= best_score:\n",
    "#             best_score = accuracy\n",
    "#             best_etstimate = li\n",
    "#             print('=' * 50)\n",
    "#             print('현재 best_score :', best_score)\n",
    "#             print('현재 best_etstimate :', best_etstimate)\n",
    "#             print('=' * 50)\n",
    "#         if accuracy > 0.55:\n",
    "#             over55.append([model, accuracy, li])"
   ]
  },
  {
   "cell_type": "code",
   "execution_count": 186,
   "id": "e000328e",
   "metadata": {},
   "outputs": [],
   "source": [
    "# best_score\n",
    "# best_etstimate"
   ]
  },
  {
   "cell_type": "markdown",
   "id": "bdcc8c57",
   "metadata": {},
   "source": [
    "### 최고의 조합 사용하기"
   ]
  },
  {
   "cell_type": "code",
   "execution_count": 199,
   "id": "90c075d8",
   "metadata": {},
   "outputs": [],
   "source": [
    "y = df.updown[5:]\n",
    "x = df.drop(['date', 'updown'], axis=1)[:-5]\n",
    "x = x.loc[:, ['tesla', 'tesla_거래량', 'oli_price', 'EVE거래량', 'alu_change']]"
   ]
  },
  {
   "cell_type": "code",
   "execution_count": 200,
   "id": "02dd94d0",
   "metadata": {},
   "outputs": [],
   "source": [
    "x_train = x[:1444]\n",
    "x_test = x[1444:]\n",
    "y_train = y[:1444]\n",
    "y_test = y[1444:]"
   ]
  },
  {
   "cell_type": "code",
   "execution_count": 201,
   "id": "9f21c39b",
   "metadata": {},
   "outputs": [
    {
     "name": "stdout",
     "output_type": "stream",
     "text": [
      "XGBClassifier\n",
      "accuracy_score : 0.6201117318435754\n",
      "f1_score : 0.5952380952380953\n",
      "              precision    recall  f1-score   support\n",
      "\n",
      "           0       0.57      0.73      0.64       166\n",
      "           1       0.69      0.52      0.60       192\n",
      "\n",
      "    accuracy                           0.62       358\n",
      "   macro avg       0.63      0.63      0.62       358\n",
      "weighted avg       0.64      0.62      0.62       358\n",
      "\n"
     ]
    }
   ],
   "source": [
    "lgbm.fit(x_train, y_train)\n",
    "preds = lgbm.predict(x_test)\n",
    "prob = lgbm.predict_proba(x_test)\n",
    "prob = prob[:, 1]\n",
    "print(model.__class__.__name__)\n",
    "print('accuracy_score :', accuracy_score(y_test, preds))\n",
    "print('f1_score :', f1_score(y_test, preds))\n",
    "print(classification_report(y_test, preds)) "
   ]
  },
  {
   "cell_type": "markdown",
   "id": "641f28c2",
   "metadata": {},
   "source": [
    "### 피쳐별 중요도 시각화"
   ]
  },
  {
   "cell_type": "code",
   "execution_count": 190,
   "id": "13dbf4dd",
   "metadata": {},
   "outputs": [],
   "source": [
    "from sklearn.tree import export_graphviz\n",
    "from sklearn.metrics import roc_curve"
   ]
  },
  {
   "cell_type": "code",
   "execution_count": 191,
   "id": "11fba23d",
   "metadata": {},
   "outputs": [
    {
     "data": {
      "text/plain": [
       "[Text(0, 0, 'tesla'),\n",
       " Text(0, 1, 'tesla_거래량'),\n",
       " Text(0, 2, 'oli_price'),\n",
       " Text(0, 3, 'EVE거래량'),\n",
       " Text(0, 4, 'alu_change')]"
      ]
     },
     "execution_count": 191,
     "metadata": {},
     "output_type": "execute_result"
    },
    {
     "data": {
      "image/png": "[encoded data removed]",
      "text/plain": [
       "<Figure size 720x864 with 1 Axes>"
      ]
     },
     "metadata": {
      "needs_background": "light"
     },
     "output_type": "display_data"
    }
   ],
   "source": [
    "fig, ax = plt.subplots(figsize=(10, 12))\n",
    "plot_importance(lgbm, ax=ax).set_yticklabels(x.columns)"
   ]
  },
  {
   "cell_type": "markdown",
   "id": "a1dd8f94",
   "metadata": {},
   "source": [
    "### confusion_matrix 시각화"
   ]
  },
  {
   "cell_type": "code",
   "execution_count": 193,
   "id": "a980a5f3",
   "metadata": {},
   "outputs": [],
   "source": [
    "from sklearn.metrics import confusion_matrix, plot_confusion_matrix"
   ]
  },
  {
   "cell_type": "code",
   "execution_count": 194,
   "id": "7679c587",
   "metadata": {},
   "outputs": [
    {
     "data": {
      "text/plain": [
       "array([[122,  44],\n",
       "       [ 92, 100]], dtype=int64)"
      ]
     },
     "execution_count": 194,
     "metadata": {},
     "output_type": "execute_result"
    }
   ],
   "source": [
    "cm = confusion_matrix(y_test, preds)\n",
    "cm"
   ]
  },
  {
   "cell_type": "code",
   "execution_count": 195,
   "id": "00a82534",
   "metadata": {
    "scrolled": true
   },
   "outputs": [
    {
     "data": {
      "image/png": "[encoded data removed]",
      "text/plain": [
       "<Figure size 432x288 with 2 Axes>"
      ]
     },
     "metadata": {
      "needs_background": "light"
     },
     "output_type": "display_data"
    }
   ],
   "source": [
    "ax= plt.subplot()\n",
    "sns.heatmap(cm, annot=True, fmt='g', ax=ax, cmap='Blues');  #annot=True to annotate cells, ftm='g' to disable scientific notation\n",
    "\n",
    "# labels, title and ticks\n",
    "ax.set_xlabel('Predicted labels');ax.set_ylabel('True labels'); \n",
    "ax.set_title('Confusion Matrix'); \n",
    "ax.xaxis.set_ticklabels(['Negative', 'Positive']); ax.yaxis.set_ticklabels(['False', 'True']);"
   ]
  },
  {
   "cell_type": "markdown",
   "id": "3dad7963",
   "metadata": {},
   "source": [
    "### ROC 그래프 시각화\n",
    "ROC 그래프는 가로축을 FP Rate (Specificity) 값의 비율로 하고 \\\n",
    "세로축을 TP Rate (Sensitive) 로 하여 시각화 한 그래프이다. \\"
   ]
  },
  {
   "cell_type": "markdown",
   "id": "3d5df29f",
   "metadata": {},
   "source": [
    "Specificity - Negative 로 판단한것중에, 실제 Negative 값의 비율이다. \\\n",
    "Sensitive - 원래 Positive 데이타 수에서 Positive로 분류된 수"
   ]
  },
  {
   "cell_type": "code",
   "execution_count": 196,
   "id": "e47a9bac",
   "metadata": {},
   "outputs": [],
   "source": [
    "def plot_roc_curve(fper, tper):\n",
    "    plt.plot(fper, tper, color='red', label='ROC')\n",
    "    plt.plot([0, 1], [0, 1], color='green', linestyle='--')\n",
    "    plt.xlabel('False Positive Rate')\n",
    "    plt.ylabel('True Positive Rate')\n",
    "    plt.title('Receiver Operating Characteristic Curve')\n",
    "    plt.legend()\n",
    "    plt.show()"
   ]
  },
  {
   "cell_type": "code",
   "execution_count": 197,
   "id": "a5442a61",
   "metadata": {},
   "outputs": [
    {
     "data": {
      "image/png": "[encoded data removed]",
      "text/plain": [
       "<Figure size 432x288 with 1 Axes>"
      ]
     },
     "metadata": {
      "needs_background": "light"
     },
     "output_type": "display_data"
    }
   ],
   "source": [
    "fper, tper, thresholds = roc_curve(y_test, prob)\n",
    "plot_roc_curve(fper, tper)"
   ]
  },
  {
   "cell_type": "code",
   "execution_count": null,
   "id": "f450da53",
   "metadata": {},
   "outputs": [],
   "source": []
  },
  {
   "cell_type": "code",
   "execution_count": 198,
   "id": "2f021566",
   "metadata": {},
   "outputs": [
    {
     "data": {
      "image/png": "[encoded data removed]",
      "text/plain": [
       "<Figure size 432x288 with 1 Axes>"
      ]
     },
     "metadata": {
      "needs_background": "light"
     },
     "output_type": "display_data"
    }
   ],
   "source": [
    "from sklearn.metrics import PrecisionRecallDisplay\n",
    "\n",
    "display = PrecisionRecallDisplay.from_estimator(\n",
    "    lgbm, x_test, y_test, name=\"LinearSVC\"\n",
    ")\n",
    "_ = display.ax_.set_title(\"2-class Precision-Recall curve\")"
   ]
  }
 ],
 "metadata": {
  "kernelspec": {
   "display_name": "Python 3 (ipykernel)",
   "language": "python",
   "name": "python3"
  },
  "language_info": {
   "codemirror_mode": {
    "name": "ipython",
    "version": 3
   },
   "file_extension": ".py",
   "mimetype": "text/x-python",
   "name": "python",
   "nbconvert_exporter": "python",
   "pygments_lexer": "ipython3",
   "version": "3.9.7"
  }
 },
 "nbformat": 4,
 "nbformat_minor": 5
}
