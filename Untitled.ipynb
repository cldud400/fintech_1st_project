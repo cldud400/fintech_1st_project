{
 "cells": [
  {
   "cell_type": "code",
   "execution_count": 1,
   "id": "794298b6",
   "metadata": {},
   "outputs": [],
   "source": [
    "import warnings\n",
    "warnings.simplefilter(action='ignore', category=FutureWarning)\n",
    "import MySQLdb\n",
    "import pandas as pd\n",
    "import numpy as np\n",
    "import matplotlib.pyplot as plt\n",
    "import seaborn as sns"
   ]
  },
  {
   "cell_type": "code",
   "execution_count": 3,
   "id": "d71e50a5",
   "metadata": {},
   "outputs": [],
   "source": [
    "import requests\n",
    "from bs4 import BeautifulSoup\n",
    "\n",
    "import re"
   ]
  },
  {
   "cell_type": "code",
   "execution_count": 74,
   "id": "d73aaca4",
   "metadata": {},
   "outputs": [],
   "source": [
    "# matplotlib 한글화\n",
    "\n",
    "import matplotlib as mpl\n",
    "import matplotlib.font_manager as fm\n",
    "\n",
    "mpl.rcParams['axes.unicode_minus'] = False\n",
    "\n",
    "path = 'C:/Windows/Fonts/malgun.ttf'\n",
    "font_name = fm.FontProperties(fname=path, size=50).get_name()\n",
    "plt.rc('font', family=font_name)"
   ]
  },
  {
   "cell_type": "code",
   "execution_count": null,
   "id": "e99ca4fb",
   "metadata": {},
   "outputs": [],
   "source": [
    "price_per = pd.read_excel(r'C:\\Users\\bitcamp\\Desktop\\2022년 1월 가격데이터/소비자물가상승률.xls')\n",
    "\n",
    "price_per.fillna(0, inplace = True)\n",
    "\n",
    "price_per.iloc[1,1:] = price_per.iloc[1,1:].apply(lambda x : x[:4]+'-'+x[4:6])\n",
    "\n",
    "price_per.iloc[1,1:] = pd.to_datetime(price_per.iloc[1,1:])\n",
    "\n",
    "col = price_per.iloc[1,1:]\n",
    "\n",
    "price_per.drop(0,inplace = True)\n",
    "\n",
    "price_per.drop(1,inplace = True)\n",
    "\n",
    "price_per = price_per.set_index('Unnamed: 0')\n",
    "\n",
    "price_per.rename(columns=col, inplace = True)\n",
    "\n",
    "price_per = price_per.astype('float')\n",
    "\n",
    "price_per.T.plot() "
   ]
  },
  {
   "cell_type": "code",
   "execution_count": null,
   "id": "b45b2fac",
   "metadata": {},
   "outputs": [],
   "source": []
  }
 ],
 "metadata": {
  "kernelspec": {
   "display_name": "Python 3 (ipykernel)",
   "language": "python",
   "name": "python3"
  },
  "language_info": {
   "codemirror_mode": {
    "name": "ipython",
    "version": 3
   },
   "file_extension": ".py",
   "mimetype": "text/x-python",
   "name": "python",
   "nbconvert_exporter": "python",
   "pygments_lexer": "ipython3",
   "version": "3.9.7"
  }
 },
 "nbformat": 4,
 "nbformat_minor": 5
}
